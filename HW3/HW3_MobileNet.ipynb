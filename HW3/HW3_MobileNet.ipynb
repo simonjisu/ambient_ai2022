{
  "cells": [
    {
      "cell_type": "markdown",
      "metadata": {
        "id": "_4X9M25jzxef"
      },
      "source": [
        "# | HW3 | MobileNetV2 변형해 보기\n",
        "\n",
        "**Due: 9/26, 11:59 PM**\n",
        "\n",
        "- **채점 기준**\n",
        "  - 아래 과제 설명을 따라야한다.\n",
        "  - test accuracy가 **80% 이상** 나와야 한다.\n",
        "- **제출**\n",
        "  - \"HW3_학번_이름.ipynb\" 형태로 저장하여 Jupyter Notebook을 그대로 제출.\n",
        "    - 예: HW3_2022_12345_keondo.ipynb\n",
        "  - output 지우지 말아 주세요"
      ]
    },
    {
      "cell_type": "markdown",
      "metadata": {
        "id": "CbiOlVdNzxei",
        "scrolled": false
      },
      "source": [
        "---"
      ]
    },
    {
      "cell_type": "markdown",
      "metadata": {
        "id": "zlwfSBH3zxej"
      },
      "source": [
        "`BatchNormalization(axis, momentum, epsilon)` : https://keras.io/api/layers/normalization_layers/batch_normalization/\n",
        "- axis: Batch normalization이 적용될 axis. 우리는 채널에 대해서 BN을 적용할 것이다. \n",
        "- momentum: Moving average에 적용될 momentum 계수\n",
        "- epsilon: 0으로 나누는 것을 방지하기 위한 작은 수.\n",
        "\n",
        "\n",
        "`DepthwiseConv2D(kernel_size, strides, padding, use_bias, depthwise_regularizer)` : https://keras.io/api/layers/convolution_layers/depthwise_convolution2d/"
      ]
    },
    {
      "cell_type": "markdown",
      "metadata": {
        "id": "dbeM7t9Wzxek"
      },
      "source": [
        "paper:[MobileNetV3](https://openaccess.thecvf.com/content_ICCV_2019/papers/Howard_Searching_for_MobileNetV3_ICCV_2019_paper.pdf)  \n",
        "\n",
        "이번 과제에서는 MobileNetV3에서 추가된 내용 중 일부를 반영해 볼 것이다. MobilenetV3에서는 모델의 마지막 부분에 아래 그림과 같은 변화가 있었는데, 요약하자면\n",
        "* Average pooling 앞의 1x1 Convolution layer와 Average pooling layer의 순서를 바꾸어 줌으로써 Computation은 줄이면서 정보의 손실은 최소화하였다.\n",
        "* 위 변화가 일어나게 됨으로써 그 이전 Inverted residual layer에서 projection/filtering을 해 줄 필요가 없어졌다. 따라서 마지막 Inverted residual layer의 Expansion 이후 바로 Average pooling이 오게 된다.\n",
        "* 아래 그림을 보면 더 이해가 쉬울 것이다.\n",
        "<img src=\"https://user-images.githubusercontent.com/37704174/112775642-734f8a80-9078-11eb-9bc1-a860a1fea407.PNG\" width=\"700\" height=\"700\"/> \n",
        "* 마지막 Inverted residual layer는 Original last stage 그림에서 맨 앞 세개이다.\n",
        "\n",
        "\n",
        "<br>\n",
        "위 내용을 참조하여 Network의 마지막 부분을 변형한 MobileNetV2plus를 구성하라. 위 그림상의 H-swish는 고려하지 않아도 된다.\n",
        "<img src=\"https://user-images.githubusercontent.com/37704174/112777027-1229b600-907c-11eb-9f89-a7b61c0843be.PNG\" width=\"700\" height=\"700\"/>  \n",
        "\n",
        "- **채점기준**\n",
        "  - 위의 변경 사항 반영하기\n",
        "    - MobileNetV2에서 마지막 inverted residual block 및 뒷부분을 고치면 됨\n",
        "    - Average pooling의 output의 가로 세로는 1임\n",
        "  - test accuracy **80%** 이상\n",
        "    - BatchNormalization, Activation, Dropout, Regularization, Weight initialization 등 자유롭게 수정, 추가, 제거 가능\n",
        "    - `strides` 수정 가능\n",
        "    - 나머지는 그대로\n"
      ]
    },
    {
      "cell_type": "markdown",
      "metadata": {
        "id": "_zQAEuO1zxek"
      },
      "source": [
        "## Import Modules"
      ]
    },
    {
      "cell_type": "code",
      "execution_count": 1,
      "metadata": {
        "id": "PwJ-gqa8zxel",
        "scrolled": false
      },
      "outputs": [],
      "source": [
        "import tensorflow as tf\n",
        "### Q1. Import modules ###\n",
        "import numpy as np\n",
        "from tensorflow.keras.models import Model\n",
        "from tensorflow.keras.layers import Add, ReLU, Input, Dense, Activation, Flatten, Conv2D, \\\n",
        "    DepthwiseConv2D, BatchNormalization, GlobalAveragePooling2D, Dropout\n",
        "from tensorflow.keras.regularizers import l2\n",
        "#########################"
      ]
    },
    {
      "cell_type": "markdown",
      "metadata": {
        "id": "C5-6x854zxem"
      },
      "source": [
        "## Inverted Residual Block\n",
        "\n",
        "- 실습 때 한 것과 동일 "
      ]
    },
    {
      "cell_type": "code",
      "execution_count": 2,
      "metadata": {
        "id": "KGjTG3kAzxem",
        "scrolled": false
      },
      "outputs": [],
      "source": [
        "def _inverted_res_block(inputs, expansion, filters, strides):\n",
        "    x = inputs\n",
        "    in_chnls = inputs.shape[-1]\n",
        "    # Expansion\n",
        "    if expansion != 1:\n",
        "        x = Conv2D(kernel_size=1, filters=in_chnls * expansion, strides=1, padding='same', use_bias=False, kernel_regularizer=l2(4e-5))(x)\n",
        "        x = BatchNormalization(momentum=0.999, epsilon=0.001)(x)\n",
        "        x = ReLU(max_value=6)(x)\n",
        "        \n",
        "    # Depthwise convolution\n",
        "    x = DepthwiseConv2D(kernel_size=3, strides=strides, padding='same', use_bias=False, depthwise_regularizer=l2(4e-5))(x)\n",
        "    x = BatchNormalization(momentum=0.999, epsilon=0.001)(x)\n",
        "    x = ReLU(max_value=6)(x)\n",
        "    \n",
        "    # Linear bottleneck\n",
        "    x = Conv2D(kernel_size=1, filters=filters, strides=1, padding='same', use_bias=False, kernel_regularizer=l2(4e-5))(x)\n",
        "    x = BatchNormalization(momentum=0.999, epsilon=0.001)(x)\n",
        "    # No activation\n",
        "    \n",
        "    # Residual connection\n",
        "    if in_chnls == filters and strides == 1:\n",
        "        x = Add()([inputs, x])\n",
        "        \n",
        "    return x #return output of layer"
      ]
    },
    {
      "cell_type": "markdown",
      "metadata": {
        "id": "VBNLdmgTzxen"
      },
      "source": [
        "## MobileNetV2 변형 구현"
      ]
    },
    {
      "cell_type": "code",
      "execution_count": 3,
      "metadata": {
        "id": "5TkdqcFRzxen",
        "scrolled": false
      },
      "outputs": [],
      "source": [
        "def MobileNetV2plus(input_shape, classes):\n",
        "    inputs = Input(shape=input_shape)\n",
        "    \n",
        "    ### Q2. Modify MobileNetV2 ###\n",
        "    x = Conv2D(filters=32, kernel_size=3, strides=1, padding='same')(inputs)\n",
        "    x = BatchNormalization()(x)\n",
        "    x = ReLU(max_value=6)(x)\n",
        "\n",
        "    # inverted_res_blocks\n",
        "    x = _inverted_res_block(x, expansion=1, filters=16, strides=1)\n",
        "\n",
        "    x = _inverted_res_block(x, expansion=6, filters=24, strides=1)\n",
        "    x = _inverted_res_block(x, expansion=6, filters=24, strides=1)\n",
        "\n",
        "    x = _inverted_res_block(x, expansion=6, filters=32, strides=1)\n",
        "    x = _inverted_res_block(x, expansion=6, filters=32, strides=1)\n",
        "    x = _inverted_res_block(x, expansion=6, filters=32, strides=1)\n",
        "\n",
        "    x = _inverted_res_block(x, expansion=6, filters=64, strides=2)\n",
        "    x = _inverted_res_block(x, expansion=6, filters=64, strides=1)\n",
        "    x = _inverted_res_block(x, expansion=6, filters=64, strides=1)\n",
        "    x = _inverted_res_block(x, expansion=6, filters=64, strides=1)\n",
        "\n",
        "    x = _inverted_res_block(x, expansion=6, filters=96, strides=1)\n",
        "    x = _inverted_res_block(x, expansion=6, filters=96, strides=1)\n",
        "    x = _inverted_res_block(x, expansion=6, filters=96, strides=1)\n",
        "\n",
        "    x = _inverted_res_block(x, expansion=6, filters=160, strides=2)\n",
        "    x = _inverted_res_block(x, expansion=6, filters=160, strides=1)\n",
        "    x = _inverted_res_block(x, expansion=6, filters=160, strides=1)\n",
        "\n",
        "    # x = _inverted_res_block(x, expansion=6, filters=320, strides=1)\n",
        "    # last stage\n",
        "    x = Conv2D(kernel_size=1, filters=160*6, strides=1, padding='same', use_bias=False)(x)\n",
        "    x = BatchNormalization(momentum=0.999, epsilon=0.001)(x)\n",
        "    x = ReLU(max_value=6)(x)\n",
        "\n",
        "    # global average pooling  \n",
        "    \n",
        "    x = GlobalAveragePooling2D()(x)\n",
        "    x = Dense(1280, use_bias=False)(x)\n",
        "    x = ReLU(max_value=6)(x)\n",
        "    x = Dropout(0.2)(x)\n",
        "    \n",
        "    # FC layer\n",
        "    outputs = Dense(classes, activation='softmax')(x)\n",
        "    ##############################  1228800 \n",
        "                                    \n",
        "    return Model(inputs=inputs, outputs=outputs)\n"
      ]
    },
    {
      "cell_type": "code",
      "execution_count": 4,
      "metadata": {
        "id": "1LvkStJhzxeo",
        "scrolled": false
      },
      "outputs": [],
      "source": [
        "my_mobilenet = MobileNetV2plus((32, 32, 3), classes=10)"
      ]
    },
    {
      "cell_type": "code",
      "execution_count": 5,
      "metadata": {},
      "outputs": [
        {
          "name": "stdout",
          "output_type": "stream",
          "text": [
            "Model: \"model\"\n",
            "__________________________________________________________________________________________________\n",
            " Layer (type)                   Output Shape         Param #     Connected to                     \n",
            "==================================================================================================\n",
            " input_1 (InputLayer)           [(None, 32, 32, 3)]  0           []                               \n",
            "                                                                                                  \n",
            " conv2d (Conv2D)                (None, 32, 32, 32)   896         ['input_1[0][0]']                \n",
            "                                                                                                  \n",
            " batch_normalization (BatchNorm  (None, 32, 32, 32)  128         ['conv2d[0][0]']                 \n",
            " alization)                                                                                       \n",
            "                                                                                                  \n",
            " re_lu (ReLU)                   (None, 32, 32, 32)   0           ['batch_normalization[0][0]']    \n",
            "                                                                                                  \n",
            " depthwise_conv2d (DepthwiseCon  (None, 32, 32, 32)  288         ['re_lu[0][0]']                  \n",
            " v2D)                                                                                             \n",
            "                                                                                                  \n",
            " batch_normalization_1 (BatchNo  (None, 32, 32, 32)  128         ['depthwise_conv2d[0][0]']       \n",
            " rmalization)                                                                                     \n",
            "                                                                                                  \n",
            " re_lu_1 (ReLU)                 (None, 32, 32, 32)   0           ['batch_normalization_1[0][0]']  \n",
            "                                                                                                  \n",
            " conv2d_1 (Conv2D)              (None, 32, 32, 16)   512         ['re_lu_1[0][0]']                \n",
            "                                                                                                  \n",
            " batch_normalization_2 (BatchNo  (None, 32, 32, 16)  64          ['conv2d_1[0][0]']               \n",
            " rmalization)                                                                                     \n",
            "                                                                                                  \n",
            " conv2d_2 (Conv2D)              (None, 32, 32, 96)   1536        ['batch_normalization_2[0][0]']  \n",
            "                                                                                                  \n",
            " batch_normalization_3 (BatchNo  (None, 32, 32, 96)  384         ['conv2d_2[0][0]']               \n",
            " rmalization)                                                                                     \n",
            "                                                                                                  \n",
            " re_lu_2 (ReLU)                 (None, 32, 32, 96)   0           ['batch_normalization_3[0][0]']  \n",
            "                                                                                                  \n",
            " depthwise_conv2d_1 (DepthwiseC  (None, 32, 32, 96)  864         ['re_lu_2[0][0]']                \n",
            " onv2D)                                                                                           \n",
            "                                                                                                  \n",
            " batch_normalization_4 (BatchNo  (None, 32, 32, 96)  384         ['depthwise_conv2d_1[0][0]']     \n",
            " rmalization)                                                                                     \n",
            "                                                                                                  \n",
            " re_lu_3 (ReLU)                 (None, 32, 32, 96)   0           ['batch_normalization_4[0][0]']  \n",
            "                                                                                                  \n",
            " conv2d_3 (Conv2D)              (None, 32, 32, 24)   2304        ['re_lu_3[0][0]']                \n",
            "                                                                                                  \n",
            " batch_normalization_5 (BatchNo  (None, 32, 32, 24)  96          ['conv2d_3[0][0]']               \n",
            " rmalization)                                                                                     \n",
            "                                                                                                  \n",
            " conv2d_4 (Conv2D)              (None, 32, 32, 144)  3456        ['batch_normalization_5[0][0]']  \n",
            "                                                                                                  \n",
            " batch_normalization_6 (BatchNo  (None, 32, 32, 144)  576        ['conv2d_4[0][0]']               \n",
            " rmalization)                                                                                     \n",
            "                                                                                                  \n",
            " re_lu_4 (ReLU)                 (None, 32, 32, 144)  0           ['batch_normalization_6[0][0]']  \n",
            "                                                                                                  \n",
            " depthwise_conv2d_2 (DepthwiseC  (None, 32, 32, 144)  1296       ['re_lu_4[0][0]']                \n",
            " onv2D)                                                                                           \n",
            "                                                                                                  \n",
            " batch_normalization_7 (BatchNo  (None, 32, 32, 144)  576        ['depthwise_conv2d_2[0][0]']     \n",
            " rmalization)                                                                                     \n",
            "                                                                                                  \n",
            " re_lu_5 (ReLU)                 (None, 32, 32, 144)  0           ['batch_normalization_7[0][0]']  \n",
            "                                                                                                  \n",
            " conv2d_5 (Conv2D)              (None, 32, 32, 24)   3456        ['re_lu_5[0][0]']                \n",
            "                                                                                                  \n",
            " batch_normalization_8 (BatchNo  (None, 32, 32, 24)  96          ['conv2d_5[0][0]']               \n",
            " rmalization)                                                                                     \n",
            "                                                                                                  \n",
            " add (Add)                      (None, 32, 32, 24)   0           ['batch_normalization_5[0][0]',  \n",
            "                                                                  'batch_normalization_8[0][0]']  \n",
            "                                                                                                  \n",
            " conv2d_6 (Conv2D)              (None, 32, 32, 144)  3456        ['add[0][0]']                    \n",
            "                                                                                                  \n",
            " batch_normalization_9 (BatchNo  (None, 32, 32, 144)  576        ['conv2d_6[0][0]']               \n",
            " rmalization)                                                                                     \n",
            "                                                                                                  \n",
            " re_lu_6 (ReLU)                 (None, 32, 32, 144)  0           ['batch_normalization_9[0][0]']  \n",
            "                                                                                                  \n",
            " depthwise_conv2d_3 (DepthwiseC  (None, 32, 32, 144)  1296       ['re_lu_6[0][0]']                \n",
            " onv2D)                                                                                           \n",
            "                                                                                                  \n",
            " batch_normalization_10 (BatchN  (None, 32, 32, 144)  576        ['depthwise_conv2d_3[0][0]']     \n",
            " ormalization)                                                                                    \n",
            "                                                                                                  \n",
            " re_lu_7 (ReLU)                 (None, 32, 32, 144)  0           ['batch_normalization_10[0][0]'] \n",
            "                                                                                                  \n",
            " conv2d_7 (Conv2D)              (None, 32, 32, 32)   4608        ['re_lu_7[0][0]']                \n",
            "                                                                                                  \n",
            " batch_normalization_11 (BatchN  (None, 32, 32, 32)  128         ['conv2d_7[0][0]']               \n",
            " ormalization)                                                                                    \n",
            "                                                                                                  \n",
            " conv2d_8 (Conv2D)              (None, 32, 32, 192)  6144        ['batch_normalization_11[0][0]'] \n",
            "                                                                                                  \n",
            " batch_normalization_12 (BatchN  (None, 32, 32, 192)  768        ['conv2d_8[0][0]']               \n",
            " ormalization)                                                                                    \n",
            "                                                                                                  \n",
            " re_lu_8 (ReLU)                 (None, 32, 32, 192)  0           ['batch_normalization_12[0][0]'] \n",
            "                                                                                                  \n",
            " depthwise_conv2d_4 (DepthwiseC  (None, 32, 32, 192)  1728       ['re_lu_8[0][0]']                \n",
            " onv2D)                                                                                           \n",
            "                                                                                                  \n",
            " batch_normalization_13 (BatchN  (None, 32, 32, 192)  768        ['depthwise_conv2d_4[0][0]']     \n",
            " ormalization)                                                                                    \n",
            "                                                                                                  \n",
            " re_lu_9 (ReLU)                 (None, 32, 32, 192)  0           ['batch_normalization_13[0][0]'] \n",
            "                                                                                                  \n",
            " conv2d_9 (Conv2D)              (None, 32, 32, 32)   6144        ['re_lu_9[0][0]']                \n",
            "                                                                                                  \n",
            " batch_normalization_14 (BatchN  (None, 32, 32, 32)  128         ['conv2d_9[0][0]']               \n",
            " ormalization)                                                                                    \n",
            "                                                                                                  \n",
            " add_1 (Add)                    (None, 32, 32, 32)   0           ['batch_normalization_11[0][0]', \n",
            "                                                                  'batch_normalization_14[0][0]'] \n",
            "                                                                                                  \n",
            " conv2d_10 (Conv2D)             (None, 32, 32, 192)  6144        ['add_1[0][0]']                  \n",
            "                                                                                                  \n",
            " batch_normalization_15 (BatchN  (None, 32, 32, 192)  768        ['conv2d_10[0][0]']              \n",
            " ormalization)                                                                                    \n",
            "                                                                                                  \n",
            " re_lu_10 (ReLU)                (None, 32, 32, 192)  0           ['batch_normalization_15[0][0]'] \n",
            "                                                                                                  \n",
            " depthwise_conv2d_5 (DepthwiseC  (None, 32, 32, 192)  1728       ['re_lu_10[0][0]']               \n",
            " onv2D)                                                                                           \n",
            "                                                                                                  \n",
            " batch_normalization_16 (BatchN  (None, 32, 32, 192)  768        ['depthwise_conv2d_5[0][0]']     \n",
            " ormalization)                                                                                    \n",
            "                                                                                                  \n",
            " re_lu_11 (ReLU)                (None, 32, 32, 192)  0           ['batch_normalization_16[0][0]'] \n",
            "                                                                                                  \n",
            " conv2d_11 (Conv2D)             (None, 32, 32, 32)   6144        ['re_lu_11[0][0]']               \n",
            "                                                                                                  \n",
            " batch_normalization_17 (BatchN  (None, 32, 32, 32)  128         ['conv2d_11[0][0]']              \n",
            " ormalization)                                                                                    \n",
            "                                                                                                  \n",
            " add_2 (Add)                    (None, 32, 32, 32)   0           ['add_1[0][0]',                  \n",
            "                                                                  'batch_normalization_17[0][0]'] \n",
            "                                                                                                  \n",
            " conv2d_12 (Conv2D)             (None, 32, 32, 192)  6144        ['add_2[0][0]']                  \n",
            "                                                                                                  \n",
            " batch_normalization_18 (BatchN  (None, 32, 32, 192)  768        ['conv2d_12[0][0]']              \n",
            " ormalization)                                                                                    \n",
            "                                                                                                  \n",
            " re_lu_12 (ReLU)                (None, 32, 32, 192)  0           ['batch_normalization_18[0][0]'] \n",
            "                                                                                                  \n",
            " depthwise_conv2d_6 (DepthwiseC  (None, 16, 16, 192)  1728       ['re_lu_12[0][0]']               \n",
            " onv2D)                                                                                           \n",
            "                                                                                                  \n",
            " batch_normalization_19 (BatchN  (None, 16, 16, 192)  768        ['depthwise_conv2d_6[0][0]']     \n",
            " ormalization)                                                                                    \n",
            "                                                                                                  \n",
            " re_lu_13 (ReLU)                (None, 16, 16, 192)  0           ['batch_normalization_19[0][0]'] \n",
            "                                                                                                  \n",
            " conv2d_13 (Conv2D)             (None, 16, 16, 64)   12288       ['re_lu_13[0][0]']               \n",
            "                                                                                                  \n",
            " batch_normalization_20 (BatchN  (None, 16, 16, 64)  256         ['conv2d_13[0][0]']              \n",
            " ormalization)                                                                                    \n",
            "                                                                                                  \n",
            " conv2d_14 (Conv2D)             (None, 16, 16, 384)  24576       ['batch_normalization_20[0][0]'] \n",
            "                                                                                                  \n",
            " batch_normalization_21 (BatchN  (None, 16, 16, 384)  1536       ['conv2d_14[0][0]']              \n",
            " ormalization)                                                                                    \n",
            "                                                                                                  \n",
            " re_lu_14 (ReLU)                (None, 16, 16, 384)  0           ['batch_normalization_21[0][0]'] \n",
            "                                                                                                  \n",
            " depthwise_conv2d_7 (DepthwiseC  (None, 16, 16, 384)  3456       ['re_lu_14[0][0]']               \n",
            " onv2D)                                                                                           \n",
            "                                                                                                  \n",
            " batch_normalization_22 (BatchN  (None, 16, 16, 384)  1536       ['depthwise_conv2d_7[0][0]']     \n",
            " ormalization)                                                                                    \n",
            "                                                                                                  \n",
            " re_lu_15 (ReLU)                (None, 16, 16, 384)  0           ['batch_normalization_22[0][0]'] \n",
            "                                                                                                  \n",
            " conv2d_15 (Conv2D)             (None, 16, 16, 64)   24576       ['re_lu_15[0][0]']               \n",
            "                                                                                                  \n",
            " batch_normalization_23 (BatchN  (None, 16, 16, 64)  256         ['conv2d_15[0][0]']              \n",
            " ormalization)                                                                                    \n",
            "                                                                                                  \n",
            " add_3 (Add)                    (None, 16, 16, 64)   0           ['batch_normalization_20[0][0]', \n",
            "                                                                  'batch_normalization_23[0][0]'] \n",
            "                                                                                                  \n",
            " conv2d_16 (Conv2D)             (None, 16, 16, 384)  24576       ['add_3[0][0]']                  \n",
            "                                                                                                  \n",
            " batch_normalization_24 (BatchN  (None, 16, 16, 384)  1536       ['conv2d_16[0][0]']              \n",
            " ormalization)                                                                                    \n",
            "                                                                                                  \n",
            " re_lu_16 (ReLU)                (None, 16, 16, 384)  0           ['batch_normalization_24[0][0]'] \n",
            "                                                                                                  \n",
            " depthwise_conv2d_8 (DepthwiseC  (None, 16, 16, 384)  3456       ['re_lu_16[0][0]']               \n",
            " onv2D)                                                                                           \n",
            "                                                                                                  \n",
            " batch_normalization_25 (BatchN  (None, 16, 16, 384)  1536       ['depthwise_conv2d_8[0][0]']     \n",
            " ormalization)                                                                                    \n",
            "                                                                                                  \n",
            " re_lu_17 (ReLU)                (None, 16, 16, 384)  0           ['batch_normalization_25[0][0]'] \n",
            "                                                                                                  \n",
            " conv2d_17 (Conv2D)             (None, 16, 16, 64)   24576       ['re_lu_17[0][0]']               \n",
            "                                                                                                  \n",
            " batch_normalization_26 (BatchN  (None, 16, 16, 64)  256         ['conv2d_17[0][0]']              \n",
            " ormalization)                                                                                    \n",
            "                                                                                                  \n",
            " add_4 (Add)                    (None, 16, 16, 64)   0           ['add_3[0][0]',                  \n",
            "                                                                  'batch_normalization_26[0][0]'] \n",
            "                                                                                                  \n",
            " conv2d_18 (Conv2D)             (None, 16, 16, 384)  24576       ['add_4[0][0]']                  \n",
            "                                                                                                  \n",
            " batch_normalization_27 (BatchN  (None, 16, 16, 384)  1536       ['conv2d_18[0][0]']              \n",
            " ormalization)                                                                                    \n",
            "                                                                                                  \n",
            " re_lu_18 (ReLU)                (None, 16, 16, 384)  0           ['batch_normalization_27[0][0]'] \n",
            "                                                                                                  \n",
            " depthwise_conv2d_9 (DepthwiseC  (None, 16, 16, 384)  3456       ['re_lu_18[0][0]']               \n",
            " onv2D)                                                                                           \n",
            "                                                                                                  \n",
            " batch_normalization_28 (BatchN  (None, 16, 16, 384)  1536       ['depthwise_conv2d_9[0][0]']     \n",
            " ormalization)                                                                                    \n",
            "                                                                                                  \n",
            " re_lu_19 (ReLU)                (None, 16, 16, 384)  0           ['batch_normalization_28[0][0]'] \n",
            "                                                                                                  \n",
            " conv2d_19 (Conv2D)             (None, 16, 16, 64)   24576       ['re_lu_19[0][0]']               \n",
            "                                                                                                  \n",
            " batch_normalization_29 (BatchN  (None, 16, 16, 64)  256         ['conv2d_19[0][0]']              \n",
            " ormalization)                                                                                    \n",
            "                                                                                                  \n",
            " add_5 (Add)                    (None, 16, 16, 64)   0           ['add_4[0][0]',                  \n",
            "                                                                  'batch_normalization_29[0][0]'] \n",
            "                                                                                                  \n",
            " conv2d_20 (Conv2D)             (None, 16, 16, 384)  24576       ['add_5[0][0]']                  \n",
            "                                                                                                  \n",
            " batch_normalization_30 (BatchN  (None, 16, 16, 384)  1536       ['conv2d_20[0][0]']              \n",
            " ormalization)                                                                                    \n",
            "                                                                                                  \n",
            " re_lu_20 (ReLU)                (None, 16, 16, 384)  0           ['batch_normalization_30[0][0]'] \n",
            "                                                                                                  \n",
            " depthwise_conv2d_10 (Depthwise  (None, 16, 16, 384)  3456       ['re_lu_20[0][0]']               \n",
            " Conv2D)                                                                                          \n",
            "                                                                                                  \n",
            " batch_normalization_31 (BatchN  (None, 16, 16, 384)  1536       ['depthwise_conv2d_10[0][0]']    \n",
            " ormalization)                                                                                    \n",
            "                                                                                                  \n",
            " re_lu_21 (ReLU)                (None, 16, 16, 384)  0           ['batch_normalization_31[0][0]'] \n",
            "                                                                                                  \n",
            " conv2d_21 (Conv2D)             (None, 16, 16, 96)   36864       ['re_lu_21[0][0]']               \n",
            "                                                                                                  \n",
            " batch_normalization_32 (BatchN  (None, 16, 16, 96)  384         ['conv2d_21[0][0]']              \n",
            " ormalization)                                                                                    \n",
            "                                                                                                  \n",
            " conv2d_22 (Conv2D)             (None, 16, 16, 576)  55296       ['batch_normalization_32[0][0]'] \n",
            "                                                                                                  \n",
            " batch_normalization_33 (BatchN  (None, 16, 16, 576)  2304       ['conv2d_22[0][0]']              \n",
            " ormalization)                                                                                    \n",
            "                                                                                                  \n",
            " re_lu_22 (ReLU)                (None, 16, 16, 576)  0           ['batch_normalization_33[0][0]'] \n",
            "                                                                                                  \n",
            " depthwise_conv2d_11 (Depthwise  (None, 16, 16, 576)  5184       ['re_lu_22[0][0]']               \n",
            " Conv2D)                                                                                          \n",
            "                                                                                                  \n",
            " batch_normalization_34 (BatchN  (None, 16, 16, 576)  2304       ['depthwise_conv2d_11[0][0]']    \n",
            " ormalization)                                                                                    \n",
            "                                                                                                  \n",
            " re_lu_23 (ReLU)                (None, 16, 16, 576)  0           ['batch_normalization_34[0][0]'] \n",
            "                                                                                                  \n",
            " conv2d_23 (Conv2D)             (None, 16, 16, 96)   55296       ['re_lu_23[0][0]']               \n",
            "                                                                                                  \n",
            " batch_normalization_35 (BatchN  (None, 16, 16, 96)  384         ['conv2d_23[0][0]']              \n",
            " ormalization)                                                                                    \n",
            "                                                                                                  \n",
            " add_6 (Add)                    (None, 16, 16, 96)   0           ['batch_normalization_32[0][0]', \n",
            "                                                                  'batch_normalization_35[0][0]'] \n",
            "                                                                                                  \n",
            " conv2d_24 (Conv2D)             (None, 16, 16, 576)  55296       ['add_6[0][0]']                  \n",
            "                                                                                                  \n",
            " batch_normalization_36 (BatchN  (None, 16, 16, 576)  2304       ['conv2d_24[0][0]']              \n",
            " ormalization)                                                                                    \n",
            "                                                                                                  \n",
            " re_lu_24 (ReLU)                (None, 16, 16, 576)  0           ['batch_normalization_36[0][0]'] \n",
            "                                                                                                  \n",
            " depthwise_conv2d_12 (Depthwise  (None, 16, 16, 576)  5184       ['re_lu_24[0][0]']               \n",
            " Conv2D)                                                                                          \n",
            "                                                                                                  \n",
            " batch_normalization_37 (BatchN  (None, 16, 16, 576)  2304       ['depthwise_conv2d_12[0][0]']    \n",
            " ormalization)                                                                                    \n",
            "                                                                                                  \n",
            " re_lu_25 (ReLU)                (None, 16, 16, 576)  0           ['batch_normalization_37[0][0]'] \n",
            "                                                                                                  \n",
            " conv2d_25 (Conv2D)             (None, 16, 16, 96)   55296       ['re_lu_25[0][0]']               \n",
            "                                                                                                  \n",
            " batch_normalization_38 (BatchN  (None, 16, 16, 96)  384         ['conv2d_25[0][0]']              \n",
            " ormalization)                                                                                    \n",
            "                                                                                                  \n",
            " add_7 (Add)                    (None, 16, 16, 96)   0           ['add_6[0][0]',                  \n",
            "                                                                  'batch_normalization_38[0][0]'] \n",
            "                                                                                                  \n",
            " conv2d_26 (Conv2D)             (None, 16, 16, 576)  55296       ['add_7[0][0]']                  \n",
            "                                                                                                  \n",
            " batch_normalization_39 (BatchN  (None, 16, 16, 576)  2304       ['conv2d_26[0][0]']              \n",
            " ormalization)                                                                                    \n",
            "                                                                                                  \n",
            " re_lu_26 (ReLU)                (None, 16, 16, 576)  0           ['batch_normalization_39[0][0]'] \n",
            "                                                                                                  \n",
            " depthwise_conv2d_13 (Depthwise  (None, 8, 8, 576)   5184        ['re_lu_26[0][0]']               \n",
            " Conv2D)                                                                                          \n",
            "                                                                                                  \n",
            " batch_normalization_40 (BatchN  (None, 8, 8, 576)   2304        ['depthwise_conv2d_13[0][0]']    \n",
            " ormalization)                                                                                    \n",
            "                                                                                                  \n",
            " re_lu_27 (ReLU)                (None, 8, 8, 576)    0           ['batch_normalization_40[0][0]'] \n",
            "                                                                                                  \n",
            " conv2d_27 (Conv2D)             (None, 8, 8, 160)    92160       ['re_lu_27[0][0]']               \n",
            "                                                                                                  \n",
            " batch_normalization_41 (BatchN  (None, 8, 8, 160)   640         ['conv2d_27[0][0]']              \n",
            " ormalization)                                                                                    \n",
            "                                                                                                  \n",
            " conv2d_28 (Conv2D)             (None, 8, 8, 960)    153600      ['batch_normalization_41[0][0]'] \n",
            "                                                                                                  \n",
            " batch_normalization_42 (BatchN  (None, 8, 8, 960)   3840        ['conv2d_28[0][0]']              \n",
            " ormalization)                                                                                    \n",
            "                                                                                                  \n",
            " re_lu_28 (ReLU)                (None, 8, 8, 960)    0           ['batch_normalization_42[0][0]'] \n",
            "                                                                                                  \n",
            " depthwise_conv2d_14 (Depthwise  (None, 8, 8, 960)   8640        ['re_lu_28[0][0]']               \n",
            " Conv2D)                                                                                          \n",
            "                                                                                                  \n",
            " batch_normalization_43 (BatchN  (None, 8, 8, 960)   3840        ['depthwise_conv2d_14[0][0]']    \n",
            " ormalization)                                                                                    \n",
            "                                                                                                  \n",
            " re_lu_29 (ReLU)                (None, 8, 8, 960)    0           ['batch_normalization_43[0][0]'] \n",
            "                                                                                                  \n",
            " conv2d_29 (Conv2D)             (None, 8, 8, 160)    153600      ['re_lu_29[0][0]']               \n",
            "                                                                                                  \n",
            " batch_normalization_44 (BatchN  (None, 8, 8, 160)   640         ['conv2d_29[0][0]']              \n",
            " ormalization)                                                                                    \n",
            "                                                                                                  \n",
            " add_8 (Add)                    (None, 8, 8, 160)    0           ['batch_normalization_41[0][0]', \n",
            "                                                                  'batch_normalization_44[0][0]'] \n",
            "                                                                                                  \n",
            " conv2d_30 (Conv2D)             (None, 8, 8, 960)    153600      ['add_8[0][0]']                  \n",
            "                                                                                                  \n",
            " batch_normalization_45 (BatchN  (None, 8, 8, 960)   3840        ['conv2d_30[0][0]']              \n",
            " ormalization)                                                                                    \n",
            "                                                                                                  \n",
            " re_lu_30 (ReLU)                (None, 8, 8, 960)    0           ['batch_normalization_45[0][0]'] \n",
            "                                                                                                  \n",
            " depthwise_conv2d_15 (Depthwise  (None, 8, 8, 960)   8640        ['re_lu_30[0][0]']               \n",
            " Conv2D)                                                                                          \n",
            "                                                                                                  \n",
            " batch_normalization_46 (BatchN  (None, 8, 8, 960)   3840        ['depthwise_conv2d_15[0][0]']    \n",
            " ormalization)                                                                                    \n",
            "                                                                                                  \n",
            " re_lu_31 (ReLU)                (None, 8, 8, 960)    0           ['batch_normalization_46[0][0]'] \n",
            "                                                                                                  \n",
            " conv2d_31 (Conv2D)             (None, 8, 8, 160)    153600      ['re_lu_31[0][0]']               \n",
            "                                                                                                  \n",
            " batch_normalization_47 (BatchN  (None, 8, 8, 160)   640         ['conv2d_31[0][0]']              \n",
            " ormalization)                                                                                    \n",
            "                                                                                                  \n",
            " add_9 (Add)                    (None, 8, 8, 160)    0           ['add_8[0][0]',                  \n",
            "                                                                  'batch_normalization_47[0][0]'] \n",
            "                                                                                                  \n",
            " conv2d_32 (Conv2D)             (None, 8, 8, 960)    153600      ['add_9[0][0]']                  \n",
            "                                                                                                  \n",
            " batch_normalization_48 (BatchN  (None, 8, 8, 960)   3840        ['conv2d_32[0][0]']              \n",
            " ormalization)                                                                                    \n",
            "                                                                                                  \n",
            " re_lu_32 (ReLU)                (None, 8, 8, 960)    0           ['batch_normalization_48[0][0]'] \n",
            "                                                                                                  \n",
            " global_average_pooling2d (Glob  (None, 960)         0           ['re_lu_32[0][0]']               \n",
            " alAveragePooling2D)                                                                              \n",
            "                                                                                                  \n",
            " dense (Dense)                  (None, 1280)         1228800     ['global_average_pooling2d[0][0]'\n",
            "                                                                 ]                                \n",
            "                                                                                                  \n",
            " re_lu_33 (ReLU)                (None, 1280)         0           ['dense[0][0]']                  \n",
            "                                                                                                  \n",
            " dropout (Dropout)              (None, 1280)         0           ['re_lu_33[0][0]']               \n",
            "                                                                                                  \n",
            " dense_1 (Dense)                (None, 10)           12810       ['dropout[0][0]']                \n",
            "                                                                                                  \n",
            "==================================================================================================\n",
            "Total params: 2,763,946\n",
            "Trainable params: 2,734,954\n",
            "Non-trainable params: 28,992\n",
            "__________________________________________________________________________________________________\n"
          ]
        }
      ],
      "source": [
        "my_mobilenet.summary()"
      ]
    },
    {
      "cell_type": "markdown",
      "metadata": {
        "id": "O69GTfOTzxeo"
      },
      "source": [
        "## Training Data\n",
        "\n",
        "- keras dataset 혹은 tensorflow dataset 이용\n",
        "- train data를 9:1로 나눠서 validation data로 이용"
      ]
    },
    {
      "cell_type": "code",
      "execution_count": 6,
      "metadata": {
        "id": "azOxenuyzxep",
        "scrolled": false
      },
      "outputs": [],
      "source": [
        "from tensorflow.keras.datasets import cifar10\n",
        "#Load data\n",
        "(x_train, y_train), (x_test, y_test) = cifar10.load_data()\n",
        "\n",
        "#Split train set into train/valid set\n",
        "from sklearn import model_selection\n",
        "x_train, x_valid, y_train, y_valid = model_selection.train_test_split(x_train, y_train, test_size=0.1)"
      ]
    },
    {
      "cell_type": "markdown",
      "metadata": {
        "id": "v1R87-fgzxep"
      },
      "source": [
        "## Data Preprocessing\n",
        "자유롭게 전처리"
      ]
    },
    {
      "cell_type": "code",
      "execution_count": 7,
      "metadata": {
        "id": "ZYETZHz1zxep",
        "scrolled": false
      },
      "outputs": [
        {
          "name": "stdout",
          "output_type": "stream",
          "text": [
            "(45000, 32, 32, 3)\n",
            "(5000, 32, 32, 3)\n",
            "(10000, 32, 32, 3)\n"
          ]
        }
      ],
      "source": [
        "### Q3. Preporcessing ###\n",
        "BATCH_SIZE = 128\n",
        "# SHUFFLE_BUFFER_SIZE = 1000\n",
        "\n",
        "# def normalizing(image, label):\n",
        "#     image = tf.cast(image, tf.float32)  # cast to tf.float32\n",
        "#     image = tf.image.per_image_standardization(image)\n",
        "#     return image, label\n",
        "\n",
        "# train_dataset = tf.data.Dataset.from_tensor_slices((x_train, y_train))\n",
        "# valid_dataset = tf.data.Dataset.from_tensor_slices((x_valid, y_valid))\n",
        "# test_dataset = tf.data.Dataset.from_tensor_slices((x_test, y_test))\n",
        "\n",
        "# train_loader = train_dataset.map(normalizing).shuffle(SHUFFLE_BUFFER_SIZE).batch(BATCH_SIZE)\n",
        "# valid_loader = valid_dataset.map(normalizing).batch(BATCH_SIZE)\n",
        "# test_loader = test_dataset.map(normalizing).batch(BATCH_SIZE)\n",
        "# x_test = np.concatenate([inputs for inputs, _ in test_loader], axis=0)\n",
        "x_train = tf.image.per_image_standardization(x_train)\n",
        "x_valid = tf.image.per_image_standardization(x_valid)\n",
        "x_test = tf.image.per_image_standardization(x_test)\n",
        "# x_train, x_valid, x_test = x_train / 255.0, x_valid / 255.0, x_test / 255.0\n",
        "print(x_train.shape)\n",
        "print(x_valid.shape)\n",
        "print(x_test.shape)\n",
        "#########################"
      ]
    },
    {
      "cell_type": "markdown",
      "metadata": {
        "id": "z6BOLhxLzxep"
      },
      "source": [
        "## Model Compile\n",
        "loss function, optimizer 설정"
      ]
    },
    {
      "cell_type": "code",
      "execution_count": 8,
      "metadata": {
        "id": "5kti2fkFzxep",
        "scrolled": false
      },
      "outputs": [],
      "source": [
        "### Q4. Model compile ###\n",
        "def scheduler(epoch, lr):\n",
        "    if epoch < 150:\n",
        "        return 0.1\n",
        "    elif (epoch >= 150) and (epoch < 225):\n",
        "        return 0.01     \n",
        "    else:\n",
        "        return 0.001\n",
        "\n",
        "optimzier = tf.keras.optimizers.SGD(learning_rate=0.1, momentum=0.9, decay=4e-5)\n",
        "my_mobilenet.compile(\n",
        "    optimizer=optimzier,\n",
        "    loss=tf.keras.losses.SparseCategoricalCrossentropy(from_logits=False),\n",
        "    metrics=['accuracy']\n",
        ")\n",
        "#########################"
      ]
    },
    {
      "cell_type": "code",
      "execution_count": 9,
      "metadata": {
        "id": "DSOCZ5ctzxeq",
        "scrolled": false
      },
      "outputs": [],
      "source": [
        "### Q5. Callbacks ###\n",
        "callbacks = []\n",
        "callbacks.append(tf.keras.callbacks.TensorBoard(log_dir='./log_dir', histogram_freq=1))\n",
        "callbacks.append(tf.keras.callbacks.ModelCheckpoint(filepath='./checkpoints/best_model', save_best_only=True, \n",
        "    save_weights_only=True, monitor='val_accuracy', mode='max'))\n",
        "callbacks.append(tf.keras.callbacks.LearningRateScheduler(scheduler))\n",
        "#####################"
      ]
    },
    {
      "cell_type": "markdown",
      "metadata": {
        "id": "z2w6KyPvzxeq"
      },
      "source": [
        "## Model Training\n",
        "hyperparameter를 적절히 설정한다. (epochs 등..)"
      ]
    },
    {
      "cell_type": "code",
      "execution_count": 10,
      "metadata": {
        "id": "3nOCP5xxzxeq",
        "scrolled": false
      },
      "outputs": [
        {
          "name": "stdout",
          "output_type": "stream",
          "text": [
            "Epoch 1/50\n",
            "352/352 [==============================] - 77s 208ms/step - loss: 1.7734 - accuracy: 0.4124 - val_loss: 2.6419 - val_accuracy: 0.1024 - lr: 0.1000\n",
            "Epoch 2/50\n",
            "352/352 [==============================] - 72s 204ms/step - loss: 1.3527 - accuracy: 0.5854 - val_loss: 2.8483 - val_accuracy: 0.1024 - lr: 0.1000\n",
            "Epoch 3/50\n",
            "352/352 [==============================] - 73s 206ms/step - loss: 1.1253 - accuracy: 0.6668 - val_loss: 3.6520 - val_accuracy: 0.1152 - lr: 0.1000\n",
            "Epoch 4/50\n",
            "352/352 [==============================] - 72s 204ms/step - loss: 0.9778 - accuracy: 0.7265 - val_loss: 3.2033 - val_accuracy: 0.1024 - lr: 0.1000\n",
            "Epoch 5/50\n",
            "352/352 [==============================] - 72s 206ms/step - loss: 0.8647 - accuracy: 0.7702 - val_loss: 2.9308 - val_accuracy: 0.1854 - lr: 0.1000\n",
            "Epoch 6/50\n",
            "352/352 [==============================] - 72s 206ms/step - loss: 0.7848 - accuracy: 0.7984 - val_loss: 2.6207 - val_accuracy: 0.2130 - lr: 0.1000\n",
            "Epoch 7/50\n",
            "352/352 [==============================] - 72s 206ms/step - loss: 0.7249 - accuracy: 0.8190 - val_loss: 2.2896 - val_accuracy: 0.3478 - lr: 0.1000\n",
            "Epoch 8/50\n",
            "352/352 [==============================] - 72s 206ms/step - loss: 0.6712 - accuracy: 0.8365 - val_loss: 1.8458 - val_accuracy: 0.4890 - lr: 0.1000\n",
            "Epoch 9/50\n",
            "352/352 [==============================] - 73s 207ms/step - loss: 0.6351 - accuracy: 0.8507 - val_loss: 1.8248 - val_accuracy: 0.5080 - lr: 0.1000\n",
            "Epoch 10/50\n",
            "352/352 [==============================] - 72s 205ms/step - loss: 0.5965 - accuracy: 0.8625 - val_loss: 3.4195 - val_accuracy: 0.3732 - lr: 0.1000\n",
            "Epoch 11/50\n",
            "352/352 [==============================] - 72s 205ms/step - loss: 0.5698 - accuracy: 0.8733 - val_loss: 3.6799 - val_accuracy: 0.4192 - lr: 0.1000\n",
            "Epoch 12/50\n",
            "352/352 [==============================] - 72s 206ms/step - loss: 0.5388 - accuracy: 0.8853 - val_loss: 1.5513 - val_accuracy: 0.6384 - lr: 0.1000\n",
            "Epoch 13/50\n",
            "352/352 [==============================] - 73s 206ms/step - loss: 0.5113 - accuracy: 0.8946 - val_loss: 1.2839 - val_accuracy: 0.7132 - lr: 0.1000\n",
            "Epoch 14/50\n",
            "352/352 [==============================] - 72s 205ms/step - loss: 0.4864 - accuracy: 0.9014 - val_loss: 2.8077 - val_accuracy: 0.5670 - lr: 0.1000\n",
            "Epoch 15/50\n",
            "352/352 [==============================] - 73s 206ms/step - loss: 0.4764 - accuracy: 0.9076 - val_loss: 1.2066 - val_accuracy: 0.7396 - lr: 0.1000\n",
            "Epoch 16/50\n",
            "352/352 [==============================] - 72s 205ms/step - loss: 0.4644 - accuracy: 0.9123 - val_loss: 1.7705 - val_accuracy: 0.6642 - lr: 0.1000\n",
            "Epoch 17/50\n",
            "352/352 [==============================] - 72s 205ms/step - loss: 0.4476 - accuracy: 0.9179 - val_loss: 1.3025 - val_accuracy: 0.7168 - lr: 0.1000\n",
            "Epoch 18/50\n",
            "352/352 [==============================] - 72s 205ms/step - loss: 0.4294 - accuracy: 0.9246 - val_loss: 1.9204 - val_accuracy: 0.6572 - lr: 0.1000\n",
            "Epoch 19/50\n",
            "352/352 [==============================] - 72s 205ms/step - loss: 0.4205 - accuracy: 0.9282 - val_loss: 1.4745 - val_accuracy: 0.7114 - lr: 0.1000\n",
            "Epoch 20/50\n",
            "352/352 [==============================] - 72s 206ms/step - loss: 0.4169 - accuracy: 0.9311 - val_loss: 1.3109 - val_accuracy: 0.7572 - lr: 0.1000\n",
            "Epoch 21/50\n",
            "352/352 [==============================] - 72s 205ms/step - loss: 0.4079 - accuracy: 0.9343 - val_loss: 1.5025 - val_accuracy: 0.7124 - lr: 0.1000\n",
            "Epoch 22/50\n",
            "352/352 [==============================] - 72s 206ms/step - loss: 0.3852 - accuracy: 0.9419 - val_loss: 0.9442 - val_accuracy: 0.8116 - lr: 0.1000\n",
            "Epoch 23/50\n",
            "352/352 [==============================] - 72s 204ms/step - loss: 0.3836 - accuracy: 0.9445 - val_loss: 1.3608 - val_accuracy: 0.7296 - lr: 0.1000\n",
            "Epoch 24/50\n",
            "352/352 [==============================] - 72s 205ms/step - loss: 0.3773 - accuracy: 0.9464 - val_loss: 2.5777 - val_accuracy: 0.6282 - lr: 0.1000\n",
            "Epoch 25/50\n",
            "352/352 [==============================] - 72s 205ms/step - loss: 0.3651 - accuracy: 0.9511 - val_loss: 1.4617 - val_accuracy: 0.7362 - lr: 0.1000\n",
            "Epoch 26/50\n",
            "352/352 [==============================] - 72s 205ms/step - loss: 0.3587 - accuracy: 0.9532 - val_loss: 1.2841 - val_accuracy: 0.7786 - lr: 0.1000\n",
            "Epoch 27/50\n",
            "352/352 [==============================] - 72s 204ms/step - loss: 0.3568 - accuracy: 0.9550 - val_loss: 1.2053 - val_accuracy: 0.7868 - lr: 0.1000\n",
            "Epoch 28/50\n",
            "352/352 [==============================] - 72s 206ms/step - loss: 0.3474 - accuracy: 0.9594 - val_loss: 0.8396 - val_accuracy: 0.8264 - lr: 0.1000\n",
            "Epoch 29/50\n",
            "352/352 [==============================] - 72s 204ms/step - loss: 0.3434 - accuracy: 0.9601 - val_loss: 1.5732 - val_accuracy: 0.7438 - lr: 0.1000\n",
            "Epoch 30/50\n",
            "352/352 [==============================] - 72s 205ms/step - loss: 0.3445 - accuracy: 0.9602 - val_loss: 1.2709 - val_accuracy: 0.7760 - lr: 0.1000\n",
            "Epoch 31/50\n",
            "352/352 [==============================] - 72s 206ms/step - loss: 0.3338 - accuracy: 0.9639 - val_loss: 0.9279 - val_accuracy: 0.8284 - lr: 0.1000\n",
            "Epoch 32/50\n",
            "352/352 [==============================] - 73s 207ms/step - loss: 0.3345 - accuracy: 0.9636 - val_loss: 0.8218 - val_accuracy: 0.8476 - lr: 0.1000\n",
            "Epoch 33/50\n",
            "352/352 [==============================] - 72s 204ms/step - loss: 0.3249 - accuracy: 0.9676 - val_loss: 0.9879 - val_accuracy: 0.8172 - lr: 0.1000\n",
            "Epoch 34/50\n",
            "352/352 [==============================] - 72s 205ms/step - loss: 0.3216 - accuracy: 0.9677 - val_loss: 0.9387 - val_accuracy: 0.8272 - lr: 0.1000\n",
            "Epoch 35/50\n",
            "352/352 [==============================] - 72s 205ms/step - loss: 0.3126 - accuracy: 0.9706 - val_loss: 1.0586 - val_accuracy: 0.8174 - lr: 0.1000\n",
            "Epoch 36/50\n",
            "352/352 [==============================] - 72s 204ms/step - loss: 0.3145 - accuracy: 0.9705 - val_loss: 0.9784 - val_accuracy: 0.8200 - lr: 0.1000\n",
            "Epoch 37/50\n",
            "352/352 [==============================] - 72s 205ms/step - loss: 0.3058 - accuracy: 0.9728 - val_loss: 1.0391 - val_accuracy: 0.8142 - lr: 0.1000\n",
            "Epoch 38/50\n",
            "352/352 [==============================] - 72s 205ms/step - loss: 0.3106 - accuracy: 0.9714 - val_loss: 1.1269 - val_accuracy: 0.7914 - lr: 0.1000\n",
            "Epoch 39/50\n",
            "352/352 [==============================] - 72s 206ms/step - loss: 0.3000 - accuracy: 0.9750 - val_loss: 0.9855 - val_accuracy: 0.8236 - lr: 0.1000\n",
            "Epoch 40/50\n",
            "352/352 [==============================] - 72s 205ms/step - loss: 0.2974 - accuracy: 0.9755 - val_loss: 1.0785 - val_accuracy: 0.8138 - lr: 0.1000\n",
            "Epoch 41/50\n",
            "352/352 [==============================] - 72s 206ms/step - loss: 0.3038 - accuracy: 0.9736 - val_loss: 0.8249 - val_accuracy: 0.8528 - lr: 0.1000\n",
            "Epoch 42/50\n",
            "352/352 [==============================] - 72s 205ms/step - loss: 0.2889 - accuracy: 0.9778 - val_loss: 0.8736 - val_accuracy: 0.8450 - lr: 0.1000\n",
            "Epoch 43/50\n",
            "352/352 [==============================] - 72s 205ms/step - loss: 0.2855 - accuracy: 0.9789 - val_loss: 0.8592 - val_accuracy: 0.8442 - lr: 0.1000\n",
            "Epoch 44/50\n",
            "352/352 [==============================] - 72s 204ms/step - loss: 0.2870 - accuracy: 0.9781 - val_loss: 0.8947 - val_accuracy: 0.8412 - lr: 0.1000\n",
            "Epoch 45/50\n",
            "352/352 [==============================] - 72s 205ms/step - loss: 0.2867 - accuracy: 0.9767 - val_loss: 1.0310 - val_accuracy: 0.8106 - lr: 0.1000\n",
            "Epoch 46/50\n",
            "352/352 [==============================] - 72s 205ms/step - loss: 0.2849 - accuracy: 0.9781 - val_loss: 1.2023 - val_accuracy: 0.7986 - lr: 0.1000\n",
            "Epoch 47/50\n",
            "352/352 [==============================] - 72s 204ms/step - loss: 0.2768 - accuracy: 0.9811 - val_loss: 1.0121 - val_accuracy: 0.8264 - lr: 0.1000\n",
            "Epoch 48/50\n",
            "352/352 [==============================] - 72s 205ms/step - loss: 0.2746 - accuracy: 0.9805 - val_loss: 0.8912 - val_accuracy: 0.8380 - lr: 0.1000\n",
            "Epoch 49/50\n",
            "352/352 [==============================] - 72s 205ms/step - loss: 0.2691 - accuracy: 0.9819 - val_loss: 1.3412 - val_accuracy: 0.7720 - lr: 0.1000\n",
            "Epoch 50/50\n",
            "352/352 [==============================] - 72s 205ms/step - loss: 0.2748 - accuracy: 0.9792 - val_loss: 1.1300 - val_accuracy: 0.8218 - lr: 0.1000\n"
          ]
        }
      ],
      "source": [
        "### Q6. Training ###\n",
        "EPOCHES = 50\n",
        "# BATCH_SIZE = 128\n",
        "# history = my_mobilenet.fit(\n",
        "#     train_loader,\n",
        "#     validation_data=valid_loader,\n",
        "#     callbacks=callbacks, \n",
        "#     epochs=EPOCHES\n",
        "# )\n",
        "history = my_mobilenet.fit(\n",
        "    x_train, y_train, batch_size=BATCH_SIZE, \n",
        "    epochs=EPOCHES,\n",
        "    callbacks=callbacks,              \n",
        "    validation_data=(x_valid, y_valid), \n",
        "    shuffle=True\n",
        ")\n",
        "####################"
      ]
    },
    {
      "cell_type": "markdown",
      "metadata": {
        "id": "7WzvdkTkzxeq"
      },
      "source": [
        "## 참고용\n",
        "조교가 학습한 모델의 validation accuracy를 그래프로 나타내 보았다."
      ]
    },
    {
      "cell_type": "code",
      "execution_count": 13,
      "metadata": {
        "id": "rcd2exS-zxeq",
        "outputId": "9dc6b7ab-535f-40ee-f643-4ea62206c140",
        "scrolled": false
      },
      "outputs": [
        {
          "data": {
            "image/png": "[encoded data removed]",
            "text/plain": [
              "<Figure size 640x480 with 1 Axes>"
            ]
          },
          "metadata": {},
          "output_type": "display_data"
        }
      ],
      "source": [
        "import matplotlib.pyplot as plt\n",
        "\n",
        "plt.plot(history.history['val_accuracy'])\n",
        "plt.title('Validation Accuracy', fontsize=15)\n",
        "plt.xlabel('epochs', fontsize=15)\n",
        "plt.ylabel('Acc.', fontsize=15)\n",
        "\n",
        "plt.show()"
      ]
    },
    {
      "cell_type": "markdown",
      "metadata": {
        "id": "uLf12NSyzxer"
      },
      "source": [
        "## Test Accuracy\n",
        "\n",
        "test accuracy 측정 결과 **80% 이상**이 나와야 한다."
      ]
    },
    {
      "cell_type": "code",
      "execution_count": 17,
      "metadata": {},
      "outputs": [],
      "source": [
        "my_mobilenet = MobileNetV2plus((32, 32, 3), classes=10)\n",
        "my_mobilenet.load_weights(filepath='./checkpoints/best_model')\n",
        "my_mobilenet.compile(\n",
        "    loss=tf.keras.losses.SparseCategoricalCrossentropy(from_logits=False),\n",
        "    metrics=['accuracy']\n",
        ")"
      ]
    },
    {
      "cell_type": "code",
      "execution_count": 18,
      "metadata": {
        "id": "6TZdoqT9zxer",
        "outputId": "adb52b13-eb10-40a1-9fb4-787d5b0f50fd",
        "scrolled": false
      },
      "outputs": [
        {
          "name": "stdout",
          "output_type": "stream",
          "text": [
            "313/313 [==============================] - 8s 21ms/step - loss: 0.8608 - accuracy: 0.8519\n"
          ]
        },
        {
          "data": {
            "text/plain": [
              "[0.8608081936836243, 0.8518999814987183]"
            ]
          },
          "execution_count": 18,
          "metadata": {},
          "output_type": "execute_result"
        }
      ],
      "source": [
        "my_mobilenet.evaluate(x_test,y_test)"
      ]
    }
  ],
  "metadata": {
    "colab": {
      "name": "HW3_MobileNet.ipynb",
      "provenance": []
    },
    "kernelspec": {
      "display_name": "Python 3.10.4 ('ambient_ai2022-SEYtttOV')",
      "language": "python",
      "name": "python3"
    },
    "language_info": {
      "codemirror_mode": {
        "name": "ipython",
        "version": 3
      },
      "file_extension": ".py",
      "mimetype": "text/x-python",
      "name": "python",
      "nbconvert_exporter": "python",
      "pygments_lexer": "ipython3",
      "version": "3.10.4"
    },
    "vscode": {
      "interpreter": {
        "hash": "b0e54cbbf3f76ad0c117a98232f016153fbf525bed90828b9849d372ab6291cf"
      }
    }
  },
  "nbformat": 4,
  "nbformat_minor": 0
}
