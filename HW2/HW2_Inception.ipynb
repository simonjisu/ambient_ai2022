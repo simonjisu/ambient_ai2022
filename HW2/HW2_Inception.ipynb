{
  "cells": [
    {
      "cell_type": "markdown",
      "metadata": {
        "id": "nnHmePS40fFn"
      },
      "source": [
        "# | HW2(~9/20) | Inception Network 구현"
      ]
    },
    {
      "cell_type": "markdown",
      "metadata": {
        "id": "OqgHD9H30fFo"
      },
      "source": [
        "[Inception network](https://www.cv-foundation.org/openaccess/content_cvpr_2015/papers/Szegedy_Going_Deeper_With_2015_CVPR_paper.pdf)는 Inception module 여러개로 구성된 모델이다. 다음 그림을 참고하여 Inception network를 구현하시오.\n",
        "\n",
        "- **채점 기준**\n",
        "  - Inception module을 잘 구현해야 한다.\n",
        "  - 아래의 표에 있는 대로 architecture를 구현해야 한다. (논문과 약간 다르게 auxiliary classifier 등이 생략되어 있다)\n",
        "  - 아래의 **표에 있는 대로 hyperparameter(filter size, stride, filter 수)를 설정**해야 하고, 각 layer 및 module의 **output size가 표와 같게 나와야 한다.**\n",
        "  - test accuracy가 **65% 이상** 나와야 한다.\n",
        "- **제출**\n",
        "  - \"HW2_학번_이름.ipynb\" 형태로 저장하여 Jupyter Notebook을 그대로 제출.\n",
        "    - 예: HW2_2022_12345_keondo.ipynb\n",
        "  - output 지우지 말아 주세요"
      ]
    },
    {
      "cell_type": "markdown",
      "metadata": {
        "id": "b7ixWfU30fFo"
      },
      "source": [
        "## 과제 설명"
      ]
    },
    {
      "cell_type": "markdown",
      "metadata": {
        "id": "6Ey7jCNH0fFo"
      },
      "source": [
        "### Inception Module\n",
        "\n",
        "- `strides`는 모두 1로 설정해야 output size가 맞게 나올 것이다.\n",
        "\n",
        "\n",
        "\n",
        "<img src=\"https://user-images.githubusercontent.com/37704174/108797724-369ef800-75cf-11eb-987a-926657daf61e.JPG\" width=\"400\" height=\"400\"/>  \n",
        "\n"
      ]
    },
    {
      "cell_type": "markdown",
      "metadata": {
        "id": "ckzNKTMr0fFo"
      },
      "source": [
        "### Inception Network Architecture\n",
        "- 아래의 표에 있는대로 구성을 하면 이러한 구조의 모델이 만들어진다.\n",
        "\n",
        "<img src=\"https://user-images.githubusercontent.com/37704174/108797713-2dae2680-75cf-11eb-8593-5a1bf50549da.png\" width=\"400\" height=\"400\"/>  "
      ]
    },
    {
      "cell_type": "markdown",
      "metadata": {
        "id": "8Zuf2ydQ0fFp"
      },
      "source": [
        "### Specification\n",
        "\n",
        "\n",
        "<img src=\"https://user-images.githubusercontent.com/37704174/109782740-8d9a7200-7c4c-11eb-9999-d859b67dc468.JPG\" width=\"600\" height=\"600\"/>  \n",
        "\n",
        "- 이 표에 있는 대로 위에서부터 layer 및 Inception module을 쌓아야 한다.\n",
        "- 모든 `Conv2D`와 `MaxPool2D`의 padding 옵션은 `same`으로 설정해야 output size가 올바르게 나올 것이다.\n",
        "- 표 3행을 보면 convolution의 depth가 2이다. 이것은 `Conv2D` layer가 2개 있다는 뜻이고, 각각의 filter의 수는 64, 192로 설정해야 한다.\n",
        "- Inception module의 hyperparameter 설명\n",
        "  - #1x1: 맨 왼쪽 1x1 convolution layer의 filter 수\n",
        "  - #3x3 reduce: 3x3 convolution layer 이전에 나오는 1x1 convolution layer의 filter 수\n",
        "  - #3x3: 3x3 convolution layer의 filter 수\n",
        "  - #5x5 reduce: 5x5 convolution layer 이전에 나오는 1x1 convolution layer의 filter 수\n",
        "  - #5x5: 5x5 convolution layer의 filter 수\n",
        "  - pool proj: max pooling 다음에 나오는 1x1 convolution layer의 filter 수"
      ]
    },
    {
      "cell_type": "markdown",
      "metadata": {
        "id": "4kzqb8B10fFp"
      },
      "source": [
        "## (Optional) Colab Setup"
      ]
    },
    {
      "cell_type": "code",
      "execution_count": null,
      "metadata": {
        "id": "UQdOegcC0fFp"
      },
      "outputs": [],
      "source": [
        "# Colab에 Google Drive를 마운트하면 노트북의 모든 코드가 Google Drive의 모든 파일에 액세스할 수 있게 됨\n",
        "from google.colab import drive\n",
        "drive.mount('/content/drive')"
      ]
    },
    {
      "cell_type": "code",
      "execution_count": null,
      "metadata": {
        "id": "jtzG3ldr0fFp"
      },
      "outputs": [],
      "source": [
        "\"\"\"\n",
        "Change directory to where this file is located\n",
        "\"\"\"\n",
        "#%cd 'COPY&PASTE FILE DIRECTORY HERE'"
      ]
    },
    {
      "cell_type": "markdown",
      "metadata": {
        "id": "DtfJdTkn0fFp"
      },
      "source": [
        "## Import Modules"
      ]
    },
    {
      "cell_type": "code",
      "execution_count": 1,
      "metadata": {
        "id": "pcmXyO0M0fFp"
      },
      "outputs": [],
      "source": [
        "import tensorflow as tf\n",
        "import numpy as np\n",
        "\n",
        "### 자유롭게 import\n",
        "cifar10 = tf.keras.datasets.cifar10"
      ]
    },
    {
      "cell_type": "markdown",
      "metadata": {
        "id": "sreTcgqm0fFp"
      },
      "source": [
        "## GPU Setting"
      ]
    },
    {
      "cell_type": "code",
      "execution_count": 2,
      "metadata": {
        "id": "CglkPMBZ0fFq"
      },
      "outputs": [
        {
          "name": "stdout",
          "output_type": "stream",
          "text": [
            "Num_GPUs:1, List:[PhysicalDevice(name='/physical_device:GPU:0', device_type='GPU')]\n"
          ]
        }
      ],
      "source": [
        "\"\"\"\n",
        "Make sure your runtime type is GPU!\n",
        "\"\"\"\n",
        "physical_devices = tf.config.list_physical_devices('GPU')\n",
        "print('Num_GPUs:{}, List:{}'.format(len(physical_devices), physical_devices))"
      ]
    },
    {
      "cell_type": "markdown",
      "metadata": {
        "id": "6RXfpcFz0fFq"
      },
      "source": [
        "## 1. Implement Inception Network\n"
      ]
    },
    {
      "cell_type": "markdown",
      "metadata": {
        "id": "eq5jlPAc0fFq"
      },
      "source": [
        "### Inception Module"
      ]
    },
    {
      "cell_type": "code",
      "execution_count": 3,
      "metadata": {
        "id": "vHJfrHqk0fFq"
      },
      "outputs": [],
      "source": [
        "def InceptionModule(inputs, f_1x1, f_3x3_r, f_3x3, f_5x5_r, f_5x5, f_pool):\n",
        "    \"\"\"\n",
        "    inputs: input of Inception module\n",
        "    f_ : number of filters in the table above\n",
        "    \n",
        "    \"\"\"\n",
        "    ### Q1. Make a Inception Module (as Figure 2) ###\n",
        "    # conv_1x1\n",
        "    o_1x1 = tf.keras.layers.Conv2D(filters=f_1x1, kernel_size=1, activation='relu', padding='same')(inputs)\n",
        "    # conv_3x3\n",
        "    o_3x3_reduce = tf.keras.layers.Conv2D(filters=f_3x3_r, kernel_size=1, activation='relu', padding='same')(inputs)\n",
        "    o_3x3 =  tf.keras.layers.Conv2D(filters=f_3x3, kernel_size=3, activation='relu', padding='same')(o_3x3_reduce)\n",
        "    # conv_5x5\n",
        "    o_5x5_reduce = tf.keras.layers.Conv2D(filters=f_5x5_r, kernel_size=1, activation='relu', padding='same')(inputs)\n",
        "    o_5x5 = tf.keras.layers.Conv2D(filters=f_5x5, kernel_size=5, activation='relu', padding='same')(o_5x5_reduce)\n",
        "    # pool proj\n",
        "    o_pool = tf.keras.layers.MaxPool2D(pool_size=3, strides=1, padding='same')(inputs)\n",
        "    o_pool = tf.keras.layers.Conv2D(filters=f_pool, kernel_size=1, activation='relu', padding='same')(o_pool)\n",
        "    # use tf.keras.layers.concatenate\n",
        "    outputs = tf.keras.layers.concatenate([o_1x1, o_3x3, o_5x5, o_pool])\n",
        "    #######################################\n",
        "    return outputs"
      ]
    },
    {
      "cell_type": "markdown",
      "metadata": {
        "id": "08H5rw-B0fFq"
      },
      "source": [
        "### Inception Network"
      ]
    },
    {
      "cell_type": "code",
      "execution_count": 4,
      "metadata": {
        "id": "BRbPhu2a0fFq"
      },
      "outputs": [],
      "source": [
        "def InceptionNet():\n",
        "    inputs = tf.keras.layers.Input(shape=(32, 32, 3))\n",
        "    \n",
        "    ### Q2. Make a Inception Network according to the above specification ###\n",
        "    # conv 1\n",
        "    x = tf.keras.layers.Conv2D(filters=64, kernel_size=(7, 7), activation='relu', padding='same')(inputs)\n",
        "    # maxpool 1\n",
        "    x = tf.keras.layers.MaxPool2D(pool_size=3, strides=2, padding='same')(x)\n",
        "    # conv 2\n",
        "    x = tf.keras.layers.Conv2D(filters=64, kernel_size=(1, 1), activation='relu', padding='same')(x)\n",
        "    x = tf.keras.layers.Conv2D(filters=192, kernel_size=(3, 3), activation='relu', padding='same')(x)\n",
        "    # maxpool 2\n",
        "    x = tf.keras.layers.MaxPool2D(pool_size=3, strides=2, padding='same')(x)\n",
        "    # inception 1\n",
        "    x = InceptionModule(inputs=x, f_1x1=64, f_3x3_r=96, f_3x3=128, f_5x5_r=16, f_5x5=32, f_pool=32)\n",
        "    # inception 2\n",
        "    x = InceptionModule(inputs=x, f_1x1=128, f_3x3_r=128, f_3x3=192, f_5x5_r=32, f_5x5=96, f_pool=64)\n",
        "    # maxpool 3\n",
        "    x = tf.keras.layers.MaxPool2D(pool_size=3, strides=2, padding='same')(x)\n",
        "    # inception 3\n",
        "    x = InceptionModule(inputs=x, f_1x1=192, f_3x3_r=96, f_3x3=208, f_5x5_r=16, f_5x5=48, f_pool=64)\n",
        "    # inception 4\n",
        "    x = InceptionModule(inputs=x, f_1x1=160, f_3x3_r=112, f_3x3=224, f_5x5_r=24, f_5x5=64, f_pool=64)\n",
        "    # inception 5\n",
        "    x = InceptionModule(inputs=x, f_1x1=128, f_3x3_r=128, f_3x3=256, f_5x5_r=24, f_5x5=64, f_pool=64)\n",
        "    # inception 6\n",
        "    x = InceptionModule(inputs=x, f_1x1=112, f_3x3_r=144, f_3x3=288, f_5x5_r=32, f_5x5=64, f_pool=64)\n",
        "    # inception 7\n",
        "    x = InceptionModule(inputs=x, f_1x1=256, f_3x3_r=160, f_3x3=320, f_5x5_r=32, f_5x5=128, f_pool=128)\n",
        "    # maxpool 4\n",
        "    x = tf.keras.layers.MaxPool2D(pool_size=3, strides=2, padding='same')(x)\n",
        "    # inception 8\n",
        "    x = InceptionModule(inputs=x, f_1x1=256, f_3x3_r=160, f_3x3=320, f_5x5_r=32, f_5x5=128, f_pool=128)\n",
        "    # inception 9\n",
        "    x = InceptionModule(inputs=x, f_1x1=384, f_3x3_r=192, f_3x3=384, f_5x5_r=48, f_5x5=128, f_pool=128)\n",
        "    # avg pool\n",
        "    x = tf.keras.layers.GlobalAveragePooling2D()(x)\n",
        "    outputs = tf.keras.layers.Dense(units=10, activation='softmax')(x)    \n",
        "    #########################################################################\n",
        "    \n",
        "    return tf.keras.Model(inputs=inputs, outputs=outputs)"
      ]
    },
    {
      "cell_type": "code",
      "execution_count": 5,
      "metadata": {
        "id": "Xi0bcc3h0fFq"
      },
      "outputs": [],
      "source": [
        "my_inception = InceptionNet()"
      ]
    },
    {
      "cell_type": "markdown",
      "metadata": {
        "id": "BRxK1iht0fFq"
      },
      "source": [
        "### Model Summary\n",
        "\n",
        "아래 셀을 실행 했을 때, 표의 각각에 해당하는 output size가 맞게 나와야 한다."
      ]
    },
    {
      "cell_type": "code",
      "execution_count": 6,
      "metadata": {
        "id": "jsSGxfNq0fFq"
      },
      "outputs": [
        {
          "name": "stdout",
          "output_type": "stream",
          "text": [
            "Model: \"model\"\n",
            "__________________________________________________________________________________________________\n",
            " Layer (type)                   Output Shape         Param #     Connected to                     \n",
            "==================================================================================================\n",
            " input_1 (InputLayer)           [(None, 32, 32, 3)]  0           []                               \n",
            "                                                                                                  \n",
            " conv2d (Conv2D)                (None, 32, 32, 64)   9472        ['input_1[0][0]']                \n",
            "                                                                                                  \n",
            " max_pooling2d (MaxPooling2D)   (None, 16, 16, 64)   0           ['conv2d[0][0]']                 \n",
            "                                                                                                  \n",
            " conv2d_1 (Conv2D)              (None, 16, 16, 64)   4160        ['max_pooling2d[0][0]']          \n",
            "                                                                                                  \n",
            " conv2d_2 (Conv2D)              (None, 16, 16, 192)  110784      ['conv2d_1[0][0]']               \n",
            "                                                                                                  \n",
            " max_pooling2d_1 (MaxPooling2D)  (None, 8, 8, 192)   0           ['conv2d_2[0][0]']               \n",
            "                                                                                                  \n",
            " conv2d_4 (Conv2D)              (None, 8, 8, 96)     18528       ['max_pooling2d_1[0][0]']        \n",
            "                                                                                                  \n",
            " conv2d_6 (Conv2D)              (None, 8, 8, 16)     3088        ['max_pooling2d_1[0][0]']        \n",
            "                                                                                                  \n",
            " max_pooling2d_2 (MaxPooling2D)  (None, 8, 8, 192)   0           ['max_pooling2d_1[0][0]']        \n",
            "                                                                                                  \n",
            " conv2d_3 (Conv2D)              (None, 8, 8, 64)     12352       ['max_pooling2d_1[0][0]']        \n",
            "                                                                                                  \n",
            " conv2d_5 (Conv2D)              (None, 8, 8, 128)    110720      ['conv2d_4[0][0]']               \n",
            "                                                                                                  \n",
            " conv2d_7 (Conv2D)              (None, 8, 8, 32)     12832       ['conv2d_6[0][0]']               \n",
            "                                                                                                  \n",
            " conv2d_8 (Conv2D)              (None, 8, 8, 32)     6176        ['max_pooling2d_2[0][0]']        \n",
            "                                                                                                  \n",
            " concatenate (Concatenate)      (None, 8, 8, 256)    0           ['conv2d_3[0][0]',               \n",
            "                                                                  'conv2d_5[0][0]',               \n",
            "                                                                  'conv2d_7[0][0]',               \n",
            "                                                                  'conv2d_8[0][0]']               \n",
            "                                                                                                  \n",
            " conv2d_10 (Conv2D)             (None, 8, 8, 128)    32896       ['concatenate[0][0]']            \n",
            "                                                                                                  \n",
            " conv2d_12 (Conv2D)             (None, 8, 8, 32)     8224        ['concatenate[0][0]']            \n",
            "                                                                                                  \n",
            " max_pooling2d_3 (MaxPooling2D)  (None, 8, 8, 256)   0           ['concatenate[0][0]']            \n",
            "                                                                                                  \n",
            " conv2d_9 (Conv2D)              (None, 8, 8, 128)    32896       ['concatenate[0][0]']            \n",
            "                                                                                                  \n",
            " conv2d_11 (Conv2D)             (None, 8, 8, 192)    221376      ['conv2d_10[0][0]']              \n",
            "                                                                                                  \n",
            " conv2d_13 (Conv2D)             (None, 8, 8, 96)     76896       ['conv2d_12[0][0]']              \n",
            "                                                                                                  \n",
            " conv2d_14 (Conv2D)             (None, 8, 8, 64)     16448       ['max_pooling2d_3[0][0]']        \n",
            "                                                                                                  \n",
            " concatenate_1 (Concatenate)    (None, 8, 8, 480)    0           ['conv2d_9[0][0]',               \n",
            "                                                                  'conv2d_11[0][0]',              \n",
            "                                                                  'conv2d_13[0][0]',              \n",
            "                                                                  'conv2d_14[0][0]']              \n",
            "                                                                                                  \n",
            " max_pooling2d_4 (MaxPooling2D)  (None, 4, 4, 480)   0           ['concatenate_1[0][0]']          \n",
            "                                                                                                  \n",
            " conv2d_16 (Conv2D)             (None, 4, 4, 96)     46176       ['max_pooling2d_4[0][0]']        \n",
            "                                                                                                  \n",
            " conv2d_18 (Conv2D)             (None, 4, 4, 16)     7696        ['max_pooling2d_4[0][0]']        \n",
            "                                                                                                  \n",
            " max_pooling2d_5 (MaxPooling2D)  (None, 4, 4, 480)   0           ['max_pooling2d_4[0][0]']        \n",
            "                                                                                                  \n",
            " conv2d_15 (Conv2D)             (None, 4, 4, 192)    92352       ['max_pooling2d_4[0][0]']        \n",
            "                                                                                                  \n",
            " conv2d_17 (Conv2D)             (None, 4, 4, 208)    179920      ['conv2d_16[0][0]']              \n",
            "                                                                                                  \n",
            " conv2d_19 (Conv2D)             (None, 4, 4, 48)     19248       ['conv2d_18[0][0]']              \n",
            "                                                                                                  \n",
            " conv2d_20 (Conv2D)             (None, 4, 4, 64)     30784       ['max_pooling2d_5[0][0]']        \n",
            "                                                                                                  \n",
            " concatenate_2 (Concatenate)    (None, 4, 4, 512)    0           ['conv2d_15[0][0]',              \n",
            "                                                                  'conv2d_17[0][0]',              \n",
            "                                                                  'conv2d_19[0][0]',              \n",
            "                                                                  'conv2d_20[0][0]']              \n",
            "                                                                                                  \n",
            " conv2d_22 (Conv2D)             (None, 4, 4, 112)    57456       ['concatenate_2[0][0]']          \n",
            "                                                                                                  \n",
            " conv2d_24 (Conv2D)             (None, 4, 4, 24)     12312       ['concatenate_2[0][0]']          \n",
            "                                                                                                  \n",
            " max_pooling2d_6 (MaxPooling2D)  (None, 4, 4, 512)   0           ['concatenate_2[0][0]']          \n",
            "                                                                                                  \n",
            " conv2d_21 (Conv2D)             (None, 4, 4, 160)    82080       ['concatenate_2[0][0]']          \n",
            "                                                                                                  \n",
            " conv2d_23 (Conv2D)             (None, 4, 4, 224)    226016      ['conv2d_22[0][0]']              \n",
            "                                                                                                  \n",
            " conv2d_25 (Conv2D)             (None, 4, 4, 64)     38464       ['conv2d_24[0][0]']              \n",
            "                                                                                                  \n",
            " conv2d_26 (Conv2D)             (None, 4, 4, 64)     32832       ['max_pooling2d_6[0][0]']        \n",
            "                                                                                                  \n",
            " concatenate_3 (Concatenate)    (None, 4, 4, 512)    0           ['conv2d_21[0][0]',              \n",
            "                                                                  'conv2d_23[0][0]',              \n",
            "                                                                  'conv2d_25[0][0]',              \n",
            "                                                                  'conv2d_26[0][0]']              \n",
            "                                                                                                  \n",
            " conv2d_28 (Conv2D)             (None, 4, 4, 128)    65664       ['concatenate_3[0][0]']          \n",
            "                                                                                                  \n",
            " conv2d_30 (Conv2D)             (None, 4, 4, 24)     12312       ['concatenate_3[0][0]']          \n",
            "                                                                                                  \n",
            " max_pooling2d_7 (MaxPooling2D)  (None, 4, 4, 512)   0           ['concatenate_3[0][0]']          \n",
            "                                                                                                  \n",
            " conv2d_27 (Conv2D)             (None, 4, 4, 128)    65664       ['concatenate_3[0][0]']          \n",
            "                                                                                                  \n",
            " conv2d_29 (Conv2D)             (None, 4, 4, 256)    295168      ['conv2d_28[0][0]']              \n",
            "                                                                                                  \n",
            " conv2d_31 (Conv2D)             (None, 4, 4, 64)     38464       ['conv2d_30[0][0]']              \n",
            "                                                                                                  \n",
            " conv2d_32 (Conv2D)             (None, 4, 4, 64)     32832       ['max_pooling2d_7[0][0]']        \n",
            "                                                                                                  \n",
            " concatenate_4 (Concatenate)    (None, 4, 4, 512)    0           ['conv2d_27[0][0]',              \n",
            "                                                                  'conv2d_29[0][0]',              \n",
            "                                                                  'conv2d_31[0][0]',              \n",
            "                                                                  'conv2d_32[0][0]']              \n",
            "                                                                                                  \n",
            " conv2d_34 (Conv2D)             (None, 4, 4, 144)    73872       ['concatenate_4[0][0]']          \n",
            "                                                                                                  \n",
            " conv2d_36 (Conv2D)             (None, 4, 4, 32)     16416       ['concatenate_4[0][0]']          \n",
            "                                                                                                  \n",
            " max_pooling2d_8 (MaxPooling2D)  (None, 4, 4, 512)   0           ['concatenate_4[0][0]']          \n",
            "                                                                                                  \n",
            " conv2d_33 (Conv2D)             (None, 4, 4, 112)    57456       ['concatenate_4[0][0]']          \n",
            "                                                                                                  \n",
            " conv2d_35 (Conv2D)             (None, 4, 4, 288)    373536      ['conv2d_34[0][0]']              \n",
            "                                                                                                  \n",
            " conv2d_37 (Conv2D)             (None, 4, 4, 64)     51264       ['conv2d_36[0][0]']              \n",
            "                                                                                                  \n",
            " conv2d_38 (Conv2D)             (None, 4, 4, 64)     32832       ['max_pooling2d_8[0][0]']        \n",
            "                                                                                                  \n",
            " concatenate_5 (Concatenate)    (None, 4, 4, 528)    0           ['conv2d_33[0][0]',              \n",
            "                                                                  'conv2d_35[0][0]',              \n",
            "                                                                  'conv2d_37[0][0]',              \n",
            "                                                                  'conv2d_38[0][0]']              \n",
            "                                                                                                  \n",
            " conv2d_40 (Conv2D)             (None, 4, 4, 160)    84640       ['concatenate_5[0][0]']          \n",
            "                                                                                                  \n",
            " conv2d_42 (Conv2D)             (None, 4, 4, 32)     16928       ['concatenate_5[0][0]']          \n",
            "                                                                                                  \n",
            " max_pooling2d_9 (MaxPooling2D)  (None, 4, 4, 528)   0           ['concatenate_5[0][0]']          \n",
            "                                                                                                  \n",
            " conv2d_39 (Conv2D)             (None, 4, 4, 256)    135424      ['concatenate_5[0][0]']          \n",
            "                                                                                                  \n",
            " conv2d_41 (Conv2D)             (None, 4, 4, 320)    461120      ['conv2d_40[0][0]']              \n",
            "                                                                                                  \n",
            " conv2d_43 (Conv2D)             (None, 4, 4, 128)    102528      ['conv2d_42[0][0]']              \n",
            "                                                                                                  \n",
            " conv2d_44 (Conv2D)             (None, 4, 4, 128)    67712       ['max_pooling2d_9[0][0]']        \n",
            "                                                                                                  \n",
            " concatenate_6 (Concatenate)    (None, 4, 4, 832)    0           ['conv2d_39[0][0]',              \n",
            "                                                                  'conv2d_41[0][0]',              \n",
            "                                                                  'conv2d_43[0][0]',              \n",
            "                                                                  'conv2d_44[0][0]']              \n",
            "                                                                                                  \n",
            " max_pooling2d_10 (MaxPooling2D  (None, 2, 2, 832)   0           ['concatenate_6[0][0]']          \n",
            " )                                                                                                \n",
            "                                                                                                  \n",
            " conv2d_46 (Conv2D)             (None, 2, 2, 160)    133280      ['max_pooling2d_10[0][0]']       \n",
            "                                                                                                  \n",
            " conv2d_48 (Conv2D)             (None, 2, 2, 32)     26656       ['max_pooling2d_10[0][0]']       \n",
            "                                                                                                  \n",
            " max_pooling2d_11 (MaxPooling2D  (None, 2, 2, 832)   0           ['max_pooling2d_10[0][0]']       \n",
            " )                                                                                                \n",
            "                                                                                                  \n",
            " conv2d_45 (Conv2D)             (None, 2, 2, 256)    213248      ['max_pooling2d_10[0][0]']       \n",
            "                                                                                                  \n",
            " conv2d_47 (Conv2D)             (None, 2, 2, 320)    461120      ['conv2d_46[0][0]']              \n",
            "                                                                                                  \n",
            " conv2d_49 (Conv2D)             (None, 2, 2, 128)    102528      ['conv2d_48[0][0]']              \n",
            "                                                                                                  \n",
            " conv2d_50 (Conv2D)             (None, 2, 2, 128)    106624      ['max_pooling2d_11[0][0]']       \n",
            "                                                                                                  \n",
            " concatenate_7 (Concatenate)    (None, 2, 2, 832)    0           ['conv2d_45[0][0]',              \n",
            "                                                                  'conv2d_47[0][0]',              \n",
            "                                                                  'conv2d_49[0][0]',              \n",
            "                                                                  'conv2d_50[0][0]']              \n",
            "                                                                                                  \n",
            " conv2d_52 (Conv2D)             (None, 2, 2, 192)    159936      ['concatenate_7[0][0]']          \n",
            "                                                                                                  \n",
            " conv2d_54 (Conv2D)             (None, 2, 2, 48)     39984       ['concatenate_7[0][0]']          \n",
            "                                                                                                  \n",
            " max_pooling2d_12 (MaxPooling2D  (None, 2, 2, 832)   0           ['concatenate_7[0][0]']          \n",
            " )                                                                                                \n",
            "                                                                                                  \n",
            " conv2d_51 (Conv2D)             (None, 2, 2, 384)    319872      ['concatenate_7[0][0]']          \n",
            "                                                                                                  \n",
            " conv2d_53 (Conv2D)             (None, 2, 2, 384)    663936      ['conv2d_52[0][0]']              \n",
            "                                                                                                  \n",
            " conv2d_55 (Conv2D)             (None, 2, 2, 128)    153728      ['conv2d_54[0][0]']              \n",
            "                                                                                                  \n",
            " conv2d_56 (Conv2D)             (None, 2, 2, 128)    106624      ['max_pooling2d_12[0][0]']       \n",
            "                                                                                                  \n",
            " concatenate_8 (Concatenate)    (None, 2, 2, 1024)   0           ['conv2d_51[0][0]',              \n",
            "                                                                  'conv2d_53[0][0]',              \n",
            "                                                                  'conv2d_55[0][0]',              \n",
            "                                                                  'conv2d_56[0][0]']              \n",
            "                                                                                                  \n",
            " global_average_pooling2d (Glob  (None, 1024)        0           ['concatenate_8[0][0]']          \n",
            " alAveragePooling2D)                                                                              \n",
            "                                                                                                  \n",
            " dense (Dense)                  (None, 10)           10250       ['global_average_pooling2d[0][0]'\n",
            "                                                                 ]                                \n",
            "                                                                                                  \n",
            "==================================================================================================\n",
            "Total params: 5,983,802\n",
            "Trainable params: 5,983,802\n",
            "Non-trainable params: 0\n",
            "__________________________________________________________________________________________________\n"
          ]
        }
      ],
      "source": [
        "my_inception.summary()"
      ]
    },
    {
      "cell_type": "markdown",
      "metadata": {
        "id": "_jTlhJr50fFq"
      },
      "source": [
        "## 2. Dataset"
      ]
    },
    {
      "cell_type": "markdown",
      "metadata": {
        "id": "9BzMxdWx0fFq"
      },
      "source": [
        "### Training Data\n",
        "\n",
        "아래의 데이터를 이용한다."
      ]
    },
    {
      "cell_type": "code",
      "execution_count": 7,
      "metadata": {
        "id": "HhKIX6wM0fFq"
      },
      "outputs": [],
      "source": [
        "### DO NOT MODIFY ###\n",
        "\n",
        "#Load data\n",
        "(x_train, y_train), (x_test, y_test) = cifar10.load_data()\n",
        "\n",
        "#Split train set into train/valid set\n",
        "from sklearn import model_selection\n",
        "x_train, x_valid, y_train, y_valid = model_selection.train_test_split(x_train, y_train, test_size=0.1)"
      ]
    },
    {
      "cell_type": "markdown",
      "metadata": {
        "id": "RSWRXTR-0fFr"
      },
      "source": [
        "### Data Preprocessing\n",
        "\n",
        "원하는 대로 데이터를 전처리 해주면 된다."
      ]
    },
    {
      "cell_type": "code",
      "execution_count": 8,
      "metadata": {
        "id": "tsdM94z30fFr"
      },
      "outputs": [],
      "source": [
        "## Q3. Data preprocessing (ex. normalize...) ##\n",
        "\n",
        "def normalizing(image, label):\n",
        "    image = tf.cast(image, tf.float32)  # cast to tf.float32\n",
        "    image = tf.image.per_image_standardization(image)\n",
        "    return image, label\n",
        "\n",
        "BATCH_SIZE = 256\n",
        "SHUFFLE_BUFFER_SIZE = 1000\n",
        "\n",
        "train_dataset = tf.data.Dataset.from_tensor_slices((x_train, y_train))\n",
        "valid_dataset = tf.data.Dataset.from_tensor_slices((x_valid, y_valid))\n",
        "test_dataset = tf.data.Dataset.from_tensor_slices((x_test, y_test))\n",
        "\n",
        "train_loader = train_dataset.map(normalizing).shuffle(SHUFFLE_BUFFER_SIZE).batch(BATCH_SIZE)\n",
        "valid_loader = valid_dataset.map(normalizing).batch(BATCH_SIZE)\n",
        "test_loader = test_dataset.map(normalizing).batch(BATCH_SIZE)\n",
        "x_test = np.concatenate([inputs for inputs, _ in test_loader], axis=0)\n",
        "###############################################"
      ]
    },
    {
      "cell_type": "markdown",
      "metadata": {
        "id": "BG4ciUAn0fFr"
      },
      "source": [
        "## 3. Training"
      ]
    },
    {
      "cell_type": "markdown",
      "metadata": {
        "id": "1TF1J-S10fFr"
      },
      "source": [
        "### Model Compile\n",
        "\n",
        "Optimizer, Loss function을 알맞게 설정한다. <br>\n",
        "Callbacks도 자유롭게 사용한다."
      ]
    },
    {
      "cell_type": "code",
      "execution_count": 9,
      "metadata": {
        "id": "rEhtrH8M0fFr"
      },
      "outputs": [],
      "source": [
        "## Q4. Model compile ##\n",
        "my_inception.compile(\n",
        "    optimizer=tf.keras.optimizers.Adam(learning_rate=0.001),\n",
        "    loss=tf.keras.losses.SparseCategoricalCrossentropy(from_logits=False),\n",
        "    metrics=['accuracy']\n",
        ")\n",
        "#######################"
      ]
    },
    {
      "cell_type": "markdown",
      "metadata": {
        "id": "WAKfP45l0fFr"
      },
      "source": [
        "### Model Training\n",
        "\n",
        "hyperparameter를 적절히 설정한다. (epochs 등..)"
      ]
    },
    {
      "cell_type": "code",
      "execution_count": 10,
      "metadata": {
        "id": "s5inO5l-0fFr"
      },
      "outputs": [
        {
          "name": "stdout",
          "output_type": "stream",
          "text": [
            "Epoch 1/50\n",
            "176/176 [==============================] - 19s 87ms/step - loss: 1.9166 - accuracy: 0.2544 - val_loss: 1.7123 - val_accuracy: 0.3412\n",
            "Epoch 2/50\n",
            "176/176 [==============================] - 14s 77ms/step - loss: 1.5318 - accuracy: 0.4221 - val_loss: 1.3447 - val_accuracy: 0.4958\n",
            "Epoch 3/50\n",
            "176/176 [==============================] - 14s 77ms/step - loss: 1.2125 - accuracy: 0.5587 - val_loss: 1.1075 - val_accuracy: 0.6160\n",
            "Epoch 4/50\n",
            "176/176 [==============================] - 14s 79ms/step - loss: 0.9837 - accuracy: 0.6503 - val_loss: 0.9432 - val_accuracy: 0.6644\n",
            "Epoch 5/50\n",
            "176/176 [==============================] - 20s 114ms/step - loss: 0.8415 - accuracy: 0.7071 - val_loss: 0.9974 - val_accuracy: 0.6612\n",
            "Epoch 6/50\n",
            "176/176 [==============================] - 21s 117ms/step - loss: 0.7216 - accuracy: 0.7492 - val_loss: 0.8326 - val_accuracy: 0.7204\n",
            "Epoch 7/50\n",
            "176/176 [==============================] - 18s 101ms/step - loss: 0.6259 - accuracy: 0.7817 - val_loss: 0.8148 - val_accuracy: 0.7218\n",
            "Epoch 8/50\n",
            "176/176 [==============================] - 18s 103ms/step - loss: 0.5366 - accuracy: 0.8136 - val_loss: 0.8361 - val_accuracy: 0.7340\n",
            "Epoch 9/50\n",
            "176/176 [==============================] - 19s 110ms/step - loss: 0.4714 - accuracy: 0.8363 - val_loss: 0.8528 - val_accuracy: 0.7292\n",
            "Epoch 10/50\n",
            "176/176 [==============================] - 18s 100ms/step - loss: 0.4220 - accuracy: 0.8542 - val_loss: 0.8416 - val_accuracy: 0.7292\n",
            "Epoch 11/50\n",
            "176/176 [==============================] - 17s 97ms/step - loss: 0.3747 - accuracy: 0.8696 - val_loss: 0.8780 - val_accuracy: 0.7472\n",
            "Epoch 12/50\n",
            "176/176 [==============================] - 18s 103ms/step - loss: 0.3301 - accuracy: 0.8858 - val_loss: 0.9676 - val_accuracy: 0.7330\n",
            "Epoch 13/50\n",
            "176/176 [==============================] - 17s 97ms/step - loss: 0.3001 - accuracy: 0.8962 - val_loss: 0.9379 - val_accuracy: 0.7256\n",
            "Epoch 14/50\n",
            "176/176 [==============================] - 19s 109ms/step - loss: 0.2521 - accuracy: 0.9134 - val_loss: 0.9425 - val_accuracy: 0.7510\n",
            "Epoch 15/50\n",
            "176/176 [==============================] - 18s 102ms/step - loss: 0.2340 - accuracy: 0.9195 - val_loss: 0.9500 - val_accuracy: 0.7508\n",
            "Epoch 16/50\n",
            "176/176 [==============================] - 18s 103ms/step - loss: 0.2016 - accuracy: 0.9296 - val_loss: 1.0187 - val_accuracy: 0.7462\n",
            "Epoch 17/50\n",
            "176/176 [==============================] - 17s 96ms/step - loss: 0.1826 - accuracy: 0.9372 - val_loss: 1.0297 - val_accuracy: 0.7628\n",
            "Epoch 18/50\n",
            "176/176 [==============================] - 16s 93ms/step - loss: 0.1632 - accuracy: 0.9446 - val_loss: 1.0716 - val_accuracy: 0.7632\n",
            "Epoch 19/50\n",
            "176/176 [==============================] - 17s 99ms/step - loss: 0.1481 - accuracy: 0.9495 - val_loss: 1.1776 - val_accuracy: 0.7558\n",
            "Epoch 20/50\n",
            "176/176 [==============================] - 17s 96ms/step - loss: 0.1474 - accuracy: 0.9494 - val_loss: 1.0858 - val_accuracy: 0.7590\n",
            "Epoch 21/50\n",
            "176/176 [==============================] - 17s 98ms/step - loss: 0.1300 - accuracy: 0.9558 - val_loss: 1.1873 - val_accuracy: 0.7568\n",
            "Epoch 22/50\n",
            "176/176 [==============================] - 21s 117ms/step - loss: 0.1278 - accuracy: 0.9558 - val_loss: 1.1686 - val_accuracy: 0.7652\n",
            "Epoch 23/50\n",
            "176/176 [==============================] - 24s 133ms/step - loss: 0.1129 - accuracy: 0.9611 - val_loss: 1.2568 - val_accuracy: 0.7572\n",
            "Epoch 24/50\n",
            "176/176 [==============================] - 18s 100ms/step - loss: 0.1041 - accuracy: 0.9645 - val_loss: 1.2729 - val_accuracy: 0.7700\n",
            "Epoch 25/50\n",
            "176/176 [==============================] - 17s 98ms/step - loss: 0.0989 - accuracy: 0.9662 - val_loss: 1.2416 - val_accuracy: 0.7538\n",
            "Epoch 26/50\n",
            "176/176 [==============================] - 17s 95ms/step - loss: 0.0955 - accuracy: 0.9678 - val_loss: 1.2082 - val_accuracy: 0.7582\n",
            "Epoch 27/50\n",
            "176/176 [==============================] - 16s 93ms/step - loss: 0.0907 - accuracy: 0.9696 - val_loss: 1.2783 - val_accuracy: 0.7594\n",
            "Epoch 28/50\n",
            "176/176 [==============================] - 17s 97ms/step - loss: 0.0760 - accuracy: 0.9734 - val_loss: 1.2481 - val_accuracy: 0.7560\n",
            "Epoch 29/50\n",
            "176/176 [==============================] - 18s 101ms/step - loss: 0.0853 - accuracy: 0.9714 - val_loss: 1.3172 - val_accuracy: 0.7622\n",
            "Epoch 30/50\n",
            "176/176 [==============================] - 16s 93ms/step - loss: 0.0825 - accuracy: 0.9725 - val_loss: 1.2869 - val_accuracy: 0.7546\n",
            "Epoch 31/50\n",
            "176/176 [==============================] - 18s 104ms/step - loss: 0.0737 - accuracy: 0.9749 - val_loss: 1.3527 - val_accuracy: 0.7570\n",
            "Epoch 32/50\n",
            "176/176 [==============================] - 18s 101ms/step - loss: 0.0794 - accuracy: 0.9736 - val_loss: 1.3110 - val_accuracy: 0.7558\n",
            "Epoch 33/50\n",
            "176/176 [==============================] - 19s 109ms/step - loss: 0.0747 - accuracy: 0.9745 - val_loss: 1.2227 - val_accuracy: 0.7684\n",
            "Epoch 34/50\n",
            "176/176 [==============================] - 18s 102ms/step - loss: 0.0761 - accuracy: 0.9742 - val_loss: 1.2282 - val_accuracy: 0.7682\n",
            "Epoch 35/50\n",
            "176/176 [==============================] - 18s 103ms/step - loss: 0.0729 - accuracy: 0.9754 - val_loss: 1.2655 - val_accuracy: 0.7672\n",
            "Epoch 36/50\n",
            "176/176 [==============================] - 18s 100ms/step - loss: 0.0625 - accuracy: 0.9796 - val_loss: 1.3528 - val_accuracy: 0.7690\n",
            "Epoch 37/50\n",
            "176/176 [==============================] - 16s 94ms/step - loss: 0.0653 - accuracy: 0.9788 - val_loss: 1.3816 - val_accuracy: 0.7594\n",
            "Epoch 38/50\n",
            "176/176 [==============================] - 19s 106ms/step - loss: 0.0692 - accuracy: 0.9773 - val_loss: 1.4061 - val_accuracy: 0.7670\n",
            "Epoch 39/50\n",
            "176/176 [==============================] - 17s 97ms/step - loss: 0.0610 - accuracy: 0.9802 - val_loss: 1.4098 - val_accuracy: 0.7644\n",
            "Epoch 40/50\n",
            "176/176 [==============================] - 19s 110ms/step - loss: 0.0706 - accuracy: 0.9765 - val_loss: 1.1782 - val_accuracy: 0.7554\n",
            "Epoch 41/50\n",
            "176/176 [==============================] - 26s 145ms/step - loss: 0.0695 - accuracy: 0.9776 - val_loss: 1.3197 - val_accuracy: 0.7670\n",
            "Epoch 42/50\n",
            "176/176 [==============================] - 18s 102ms/step - loss: 0.0711 - accuracy: 0.9760 - val_loss: 1.2390 - val_accuracy: 0.7620\n",
            "Epoch 43/50\n",
            "176/176 [==============================] - 17s 94ms/step - loss: 0.0594 - accuracy: 0.9802 - val_loss: 1.2931 - val_accuracy: 0.7574\n",
            "Epoch 44/50\n",
            "176/176 [==============================] - 17s 98ms/step - loss: 0.0585 - accuracy: 0.9803 - val_loss: 1.3460 - val_accuracy: 0.7534\n",
            "Epoch 45/50\n",
            "176/176 [==============================] - 17s 98ms/step - loss: 0.0608 - accuracy: 0.9805 - val_loss: 1.3535 - val_accuracy: 0.7688\n",
            "Epoch 46/50\n",
            "176/176 [==============================] - 17s 95ms/step - loss: 0.0596 - accuracy: 0.9804 - val_loss: 1.3596 - val_accuracy: 0.7542\n",
            "Epoch 47/50\n",
            "176/176 [==============================] - 17s 98ms/step - loss: 0.0562 - accuracy: 0.9810 - val_loss: 1.3945 - val_accuracy: 0.7742\n",
            "Epoch 48/50\n",
            "176/176 [==============================] - 17s 94ms/step - loss: 0.0562 - accuracy: 0.9824 - val_loss: 1.2628 - val_accuracy: 0.7704\n",
            "Epoch 49/50\n",
            "176/176 [==============================] - 17s 94ms/step - loss: 0.0610 - accuracy: 0.9800 - val_loss: 1.5318 - val_accuracy: 0.7500\n",
            "Epoch 50/50\n",
            "176/176 [==============================] - 17s 95ms/step - loss: 0.0512 - accuracy: 0.9830 - val_loss: 1.1543 - val_accuracy: 0.7748\n"
          ]
        }
      ],
      "source": [
        "## Q5. Set hyperparameters & training ##\n",
        "EPOCHES = 50\n",
        "hist = my_inception.fit(\n",
        "    train_loader,\n",
        "    validation_data=valid_loader,\n",
        "    epochs=EPOCHES\n",
        ")\n",
        "########################################"
      ]
    },
    {
      "cell_type": "markdown",
      "metadata": {
        "id": "MtERovo60fFr"
      },
      "source": [
        "## 참고 >\n",
        "\n",
        "조교가 학습한 모델의 validation accuracy를 그래프로 나타내 보았다."
      ]
    },
    {
      "cell_type": "code",
      "execution_count": 11,
      "metadata": {
        "id": "jvx8GtJu0fFr",
        "outputId": "dfcedf34-6d5e-4ee1-fb42-34506e9abe39",
        "scrolled": true
      },
      "outputs": [
        {
          "data": {
            "image/png": "[encoded data removed]",
            "text/plain": [
              "<Figure size 640x480 with 1 Axes>"
            ]
          },
          "metadata": {},
          "output_type": "display_data"
        }
      ],
      "source": [
        "import matplotlib.pyplot as plt\n",
        "\n",
        "plt.plot(hist.history['val_accuracy'])\n",
        "plt.title('Validation Accuracy', fontsize=15)\n",
        "plt.xlabel('epochs', fontsize=15)\n",
        "plt.ylabel('Acc.', fontsize=15)\n",
        "\n",
        "plt.show()"
      ]
    },
    {
      "cell_type": "markdown",
      "metadata": {
        "id": "SqxUlR2V0fFr"
      },
      "source": [
        "## Test Accuracy\n",
        "\n",
        "Test accuracy 측정 결과 **65% 이상**이 나와야 한다."
      ]
    },
    {
      "cell_type": "code",
      "execution_count": 12,
      "metadata": {
        "id": "0Fa_78sc0fFr"
      },
      "outputs": [
        {
          "name": "stdout",
          "output_type": "stream",
          "text": [
            "313/313 [==============================] - 4s 11ms/step - loss: 1.2418 - accuracy: 0.7580\n"
          ]
        },
        {
          "data": {
            "text/plain": [
              "[1.241757869720459, 0.7580000162124634]"
            ]
          },
          "execution_count": 12,
          "metadata": {},
          "output_type": "execute_result"
        }
      ],
      "source": [
        "### DO NOT MODIFY ###\n",
        "my_inception.evaluate(x_test, y_test)"
      ]
    }
  ],
  "metadata": {
    "colab": {
      "collapsed_sections": [],
      "name": "HW2_Inception.ipynb",
      "provenance": [],
      "toc_visible": true
    },
    "kernelspec": {
      "display_name": "Python 3.10.4 ('ambient_ai2022-SEYtttOV')",
      "language": "python",
      "name": "python3"
    },
    "language_info": {
      "codemirror_mode": {
        "name": "ipython",
        "version": 3
      },
      "file_extension": ".py",
      "mimetype": "text/x-python",
      "name": "python",
      "nbconvert_exporter": "python",
      "pygments_lexer": "ipython3",
      "version": "3.10.4"
    },
    "vscode": {
      "interpreter": {
        "hash": "b0e54cbbf3f76ad0c117a98232f016153fbf525bed90828b9849d372ab6291cf"
      }
    }
  },
  "nbformat": 4,
  "nbformat_minor": 0
}
