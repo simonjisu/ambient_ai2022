{
 "cells": [
  {
   "cell_type": "code",
   "execution_count": 28,
   "metadata": {},
   "outputs": [
    {
     "name": "stdout",
     "output_type": "stream",
     "text": [
      "1.0.3\n"
     ]
    }
   ],
   "source": [
    "from pathlib import Path\n",
    "import json\n",
    "import cv2\n",
    "import mediapipe as mp\n",
    "import numpy as np\n",
    "import math\n",
    "from datetime import datetime as dt\n",
    "import moviepy\n",
    "import matplotlib.pyplot as plt\n",
    "from moviepy.editor import VideoFileClip, CompositeVideoClip, ImageClip, TextClip, VideoClip, concatenate_videoclips, clips_array\n",
    "\n",
    "print(moviepy.__version__)\n",
    "data_path = Path('.').resolve() / 'videos'"
   ]
  },
  {
   "cell_type": "code",
   "execution_count": 20,
   "metadata": {},
   "outputs": [],
   "source": [
    "def rename_files(data_path):\n",
    "    x = dict()\n",
    "    for i, (p, name, kor_name) in enumerate(zip(\n",
    "            data_path.glob('*.mp4'), \n",
    "            ['hipjoint', 'shoulder', 'waist', 'trapezius'], \n",
    "            ['고관절', '어깨', '허리디스크', '승모근']\n",
    "        )):\n",
    "        pname = p.name.rstrip('.mp4')\n",
    "        new_name = f'{i:02d}_{name}'\n",
    "        x[new_name] = {'video_name': pname, 'kor_name': kor_name}\n",
    "        p.rename(data_path / f'{new_name}.mp4')\n",
    "    with (data_path / 'video_names.json').open('w') as file:\n",
    "        json.dump(x, file)\n",
    "\n",
    "# rename_files(data_path)"
   ]
  },
  {
   "attachments": {},
   "cell_type": "markdown",
   "metadata": {},
   "source": [
    "수정사항\n",
    "* 영상을 살펴보니 00_hipjoint는 두 개의 동작이 있음\n",
    "* 각 영상에는 설명부분과 운동하는 부분이 있음 > 영상 잘라야 할 필요성 있음\n",
    "* 한 부위에 대해서 두 가지 방법을 알려주기도 함\n",
    "\n",
    "영상 \n",
    "* 우선 설명 보고 > 동작 3회 반복\n",
    "\n",
    "1. `00_hipjoint.mp4`\n",
    "    * `00:22`: 설명\n",
    "    * `00:18.20-00:22.97`: 동작1 (15회 반복)\n",
    "    * ~~`00:25-00:38`: 설명~~\n",
    "    * ~~`00:33.11-00:39.98`: 동작2 (15회 반복) ~~\n",
    "2. `01_shoulder.mp4`\n",
    "    * `00:22-00:26`: 동작 (15회 5세트)\n",
    "3. `02_waist.mp4`\n",
    "    * `00:20-00:23`: 동작1 (12회)\n",
    "    * `00:36-00:38`: 동작2 (12회), alternative\n",
    "4. `03_trapezius.mp4`\n",
    "    * `00:17-00:19`: 동작1 (10회)\n",
    "    * `00:21-00:22`: 동작2 (10회)\n",
    "\n",
    "https://zulko.github.io/moviepy"
   ]
  },
  {
   "cell_type": "code",
   "execution_count": 21,
   "metadata": {},
   "outputs": [],
   "source": [
    "trim_path = data_path / 'trim'\n",
    "mp_drawing = mp.solutions.drawing_utils\n",
    "mp_drawing_styles = mp.solutions.drawing_styles\n",
    "mp_pose = mp.solutions.pose\n"
   ]
  },
  {
   "cell_type": "code",
   "execution_count": 43,
   "metadata": {},
   "outputs": [],
   "source": [
    "\n",
    "video_file = '02_waist' #format 사용 불가능\n",
    "clip = VideoFileClip(str(trim_path / f'{video_file}.mp4')).without_audio()\n",
    "first_img = clip.get_frame(0)\n",
    "\n",
    "pose = mp_pose.Pose(\n",
    "    min_detection_confidence=0.5,\n",
    "    min_tracking_confidence=0.5,\n",
    "    model_complexity=2, enable_segmentation=True) #complexity = 0, 1, 2 (2=> more sophisticated results)\n",
    "\n",
    "img = cv2.cvtColor(first_img.copy(), cv2.COLOR_BGR2RGB) #BGR to RGB \n",
    "results = pose.process(img) #pose processing for getting results"
   ]
  },
  {
   "cell_type": "code",
   "execution_count": 60,
   "metadata": {},
   "outputs": [],
   "source": [
    "def draw_background(x):\n",
    "    n_channels = 4\n",
    "    img_height, img_width = x.shape\n",
    "    transparent_img = np.zeros((img_height, img_width, n_channels), dtype=np.uint8)\n",
    "    return transparent_img"
   ]
  },
  {
   "cell_type": "code",
   "execution_count": 128,
   "metadata": {},
   "outputs": [
    {
     "name": "stdout",
     "output_type": "stream",
     "text": [
      "6 357 400 168\n",
      "min: (6, 357)\n",
      "max: (406, 525)\n"
     ]
    },
    {
     "data": {
      "text/plain": [
       "<matplotlib.image.AxesImage at 0x7f853842c7c0>"
      ]
     },
     "execution_count": 128,
     "metadata": {},
     "output_type": "execute_result"
    },
    {
     "data": {
      "image/png": "[encoded data removed]",
      "text/plain": [
       "<Figure size 600x600 with 2 Axes>"
      ]
     },
     "metadata": {},
     "output_type": "display_data"
    }
   ],
   "source": [
    "thres = 0.5\n",
    "\n",
    "mask_img = (results.segmentation_mask > thres).astype(np.uint8)\n",
    "bg = draw_background(mask_img)\n",
    "x = np.repeat(mask_img[:, :, None], 3, axis=2)\n",
    "# cv2.imwrite(f'{video_file}_mask.png', x[:, :, :, None])\n",
    "\n",
    "x,y,w,h = cv2.boundingRect(mask_img)\n",
    "print(x,y,w,h)\n",
    "min_coor = (x, y)\n",
    "max_coor = (x+w,y+h)\n",
    "print(\"min:\", min_coor)\n",
    "print(\"max:\", max_coor)\n",
    "\n",
    "\n",
    "# 저장 \n",
    "\n",
    "# red\n",
    "bg_image = np.repeat(np.zeros_like(mask_img)[:, :, None], 4, axis=2)\n",
    "color = tuple(reversed((220,20,60)))\n",
    "# color = (220,20,60)\n",
    "cv2.rectangle(bg_image, min_coor, max_coor, color, 2)\n",
    "# x = np.repeat(bg_image[:, :, :, None], , axis=2)\n",
    "cv2.imwrite(f'{video_file}_mask_rec_red.png', bg_image)\n",
    "\n",
    "# green\n",
    "bg_image = np.repeat( np.zeros_like(mask_img)[:, :, None], 3, axis=2)\n",
    "color = tuple(reversed((50,205,50)))\n",
    "cv2.rectangle(bg_image, min_coor, max_coor, color, 2)\n",
    "\n",
    "bg_mask = (bg_image > 0).sum(2).astype(np.uint8)\n",
    "bg_image = np.concatenate((bg_image, np.zeros((bg_image.shape[0], bg_image.shape[1], 1), dtype=bg_image.dtype)), axis=-1)\n",
    "bg_image[:, :, -1] = bg_mask\n",
    "\n",
    "cv2.imwrite(f'{video_file}_mask_rec_green.png', bg_image)\n",
    "\n",
    "fig, axes = plt.subplots(1, 2, figsize=(6, 6))\n",
    "axes[0].imshow(mask_img, cmap='binary')\n",
    "axes[1].imshow(bg_image[:, :, :3])"
   ]
  },
  {
   "cell_type": "code",
   "execution_count": 121,
   "metadata": {},
   "outputs": [],
   "source": [
    "# green\n",
    "bg_image = np.repeat(np.zeros_like(mask_img)[:, :, None], 3, axis=2)\n",
    "# bg_image = np.zeros_like(mask_img)\n",
    "color = tuple(reversed((50,205,50)))\n",
    "\n",
    "# color = (50,205,50)\n",
    "bg_image = cv2.rectangle(bg_image, min_coor, max_coor, color, 2)"
   ]
  },
  {
   "cell_type": "code",
   "execution_count": 122,
   "metadata": {},
   "outputs": [
    {
     "data": {
      "text/plain": [
       "(720, 406)"
      ]
     },
     "execution_count": 122,
     "metadata": {},
     "output_type": "execute_result"
    }
   ],
   "source": [
    "bg_image.shape[:2]"
   ]
  },
  {
   "cell_type": "code",
   "execution_count": 126,
   "metadata": {},
   "outputs": [
    {
     "data": {
      "text/plain": [
       "(720, 406, 4)"
      ]
     },
     "execution_count": 126,
     "metadata": {},
     "output_type": "execute_result"
    }
   ],
   "source": [
    "np.concatenate((bg_image, np.zeros((bg_image.shape[0], bg_image.shape[1], 1), dtype=bg_image.dtype)), axis=-1).shape"
   ]
  },
  {
   "cell_type": "code",
   "execution_count": 127,
   "metadata": {},
   "outputs": [
    {
     "data": {
      "text/plain": [
       "<matplotlib.image.AxesImage at 0x7f8554369ea0>"
      ]
     },
     "execution_count": 127,
     "metadata": {},
     "output_type": "execute_result"
    },
    {
     "data": {
      "image/png": "[encoded data removed]",
      "text/plain": [
       "<Figure size 640x480 with 1 Axes>"
      ]
     },
     "metadata": {},
     "output_type": "display_data"
    }
   ],
   "source": [
    "bg_mask = (bg_image > 0).sum(2).astype(np.uint8)\n",
    "bg_image = np.concatenate((bg_image, np.zeros((bg_image.shape[0], bg_image.shape[1], 1), dtype=bg_image.dtype)), axis=-1)\n",
    "bg_image[:, :, -1] = bg_mask\n",
    "plt.imshow(bg_mask)"
   ]
  },
  {
   "cell_type": "code",
   "execution_count": 118,
   "metadata": {},
   "outputs": [],
   "source": []
  },
  {
   "cell_type": "code",
   "execution_count": 114,
   "metadata": {},
   "outputs": [
    {
     "data": {
      "text/plain": [
       "<matplotlib.image.AxesImage at 0x7f85384013c0>"
      ]
     },
     "execution_count": 114,
     "metadata": {},
     "output_type": "execute_result"
    },
    {
     "data": {
      "image/png": "[encoded data removed]",
      "text/plain": [
       "<Figure size 640x480 with 1 Axes>"
      ]
     },
     "metadata": {},
     "output_type": "display_data"
    }
   ],
   "source": [
    "plt.imshow(bg_image[:, :, :3], cmap='binary')"
   ]
  },
  {
   "cell_type": "code",
   "execution_count": null,
   "metadata": {},
   "outputs": [],
   "source": []
  },
  {
   "cell_type": "code",
   "execution_count": null,
   "metadata": {},
   "outputs": [],
   "source": []
  },
  {
   "cell_type": "code",
   "execution_count": null,
   "metadata": {},
   "outputs": [],
   "source": []
  },
  {
   "cell_type": "code",
   "execution_count": null,
   "metadata": {},
   "outputs": [],
   "source": []
  },
  {
   "cell_type": "code",
   "execution_count": null,
   "metadata": {},
   "outputs": [],
   "source": []
  },
  {
   "cell_type": "markdown",
   "metadata": {},
   "source": [
    "## Add new video"
   ]
  },
  {
   "cell_type": "code",
   "execution_count": 3,
   "metadata": {},
   "outputs": [],
   "source": [
    "def add_video_data(num_repeat=15, num_times=3):\n",
    "    with (data_path / 'video_names.json').open('r') as file:\n",
    "        data = json.load(file)\n",
    "\n",
    "    video_action_data = {\n",
    "        '00_hipjoint': [('00:19-00:24', num_repeat, num_times), ('00:38-00:44', num_repeat, num_times)],\n",
    "        '01_shoulder': [('00:22-00:26', num_repeat, num_times)],\n",
    "        '02_waist': [('00:22-00:26', num_repeat, num_times)],\n",
    "        '03_trapezius': [('00:17-00:19', num_repeat, num_times), ('00:21-00:22', num_repeat, num_times)],\n",
    "    }\n",
    "\n",
    "    for k in data.keys():\n",
    "        data[k]['acts'] = video_action_data[k]\n",
    "    with (data_path / 'video_data.json').open('w') as file:\n",
    "        json.dump(data, file)\n",
    "\n",
    "add_video_data(num_repeat=5, num_times=3)"
   ]
  },
  {
   "cell_type": "code",
   "execution_count": 4,
   "metadata": {},
   "outputs": [],
   "source": [
    "DATA_PATH = Path('.').resolve() / 'videos'\n",
    "MP_DRAWING = mp.solutions.drawing_utils\n",
    "MP_DRAWING_STYLE = mp.solutions.drawing_styles\n",
    "MP_POSE = mp.solutions.pose\n",
    "FMT = '%M:%S'\n",
    "\n",
    "with (DATA_PATH / 'video_data.json').open('r') as file: \n",
    "    video_data = json.load(file)"
   ]
  },
  {
   "cell_type": "code",
   "execution_count": 12,
   "metadata": {},
   "outputs": [],
   "source": [
    "from moviepy.editor import VideoFileClip, CompositeVideoClip, ImageClip, TextClip, VideoClip, concatenate_videoclips, clips_array\n",
    "# from textClip import TextClip\n",
    "from collections import defaultdict"
   ]
  },
  {
   "cell_type": "code",
   "execution_count": 15,
   "metadata": {},
   "outputs": [],
   "source": [
    "def get_wait_clip():\n",
    "    # fix the issue if TextClip is not working due to ImageMagic, `convert --version`\n",
    "    # https://github.com/Zulko/moviepy/issues/401#issuecomment-278679961\n",
    "    wait_clips = []\n",
    "    # (text, color, font_size, duration)\n",
    "    data = [\n",
    "        ('Please rest \\nfor 5 seconds', 'black', 25, 4),\n",
    "        ('Ready for \\nthe next set', 'red', 25, 3),\n",
    "        ('3', 'red', 70, 1),\n",
    "        ('2', 'red', 70, 1),\n",
    "        ('1', 'red', 70, 1),\n",
    "    ]\n",
    "    total_wait_time = 0\n",
    "    bg_white = np.ones_like(bg_img) * 255\n",
    "    for k, (txt, color, fontsize, duration) in enumerate(data):\n",
    "        txt_clip = TextClip(txt, fontsize=fontsize, color=color, bg_color='transparent').set_pos('center')\n",
    "        bg = bg_white if k == 0 else bg_img\n",
    "        bg_clip = ImageClip(bg)\n",
    "        wait_clip = CompositeVideoClip([bg_clip, txt_clip]).set_duration(duration)\n",
    "        total_wait_time += duration\n",
    "        if k == 0:\n",
    "            wait_clip = wait_clip.fadein(0.5).fadeout(0.5)\n",
    "            total_wait_time += 1\n",
    "        wait_clips.append(wait_clip)\n",
    "    return concatenate_videoclips(wait_clips), total_wait_time\n",
    "\n",
    "def restart_clip(bg_img):\n",
    "    wait_clips = []\n",
    "    data = [\n",
    "        ('Ready for \\nthe next set', 'red', 720, 3),\n",
    "        ('3', 'red', 70, 1),\n",
    "        ('2', 'red', 70, 1),\n",
    "        ('1', 'red', 70, 1),\n",
    "    ]\n",
    "    bg_white = np.ones_like(bg_img) * 255\n",
    "    for k, (txt, color, fontsize, duration) in enumerate(data):\n",
    "        txt_clip = TextClip(txt, fontsize=fontsize, color=color, bg_color='transparent').set_pos('center')\n",
    "        bg_clip = ImageClip(bg_img)\n",
    "        wait_clip = CompositeVideoClip([bg_clip, txt_clip]).set_duration(duration)\n",
    "        wait_clip = wait_clip.fadein(0.5)\n",
    "        wait_clips.append(wait_clip)\n",
    "    return wait_clip\n",
    "\n",
    "def get_intermediate_count_clip(sub_clip, count):\n",
    "    txt_clip = TextClip(f'{count}', fontsize=70, color='red', bg_color='transparent')\\\n",
    "        .set_pos((0.1, 0.1), relative=True).set_duration(sub_clip.duration)\n",
    "    inter_clip = CompositeVideoClip([sub_clip, txt_clip])\n",
    "    return inter_clip\n"
   ]
  },
  {
   "cell_type": "code",
   "execution_count": null,
   "metadata": {},
   "outputs": [],
   "source": [
    "for video_path in sorted(data_path.glob('*.mp4')):\n",
    "    print(video_path.name)\n",
    "    clip = VideoFileClip(str(video_path)).without_audio()\n",
    "    print(clip.size)"
   ]
  },
  {
   "cell_type": "code",
   "execution_count": null,
   "metadata": {},
   "outputs": [],
   "source": [
    "def restart_clip(bg_img):\n",
    "    wait_clips = []\n",
    "    data = [\n",
    "        ('Ready for \\nthe next set', 'red', 720, 3),\n",
    "        ('3', 'red', 70, 1),\n",
    "        ('2', 'red', 70, 1),\n",
    "        ('1', 'red', 70, 1),\n",
    "    ]\n",
    "    bg_white = np.ones_like(bg_img) * 255\n",
    "    for k, (txt, color, fontsize, duration) in enumerate(data):\n",
    "        txt_clip = TextClip(txt, fontsize=fontsize, color=color, bg_color='transparent').set_pos('center')\n",
    "        bg_clip = ImageClip(bg_img)\n",
    "        wait_clip = CompositeVideoClip([bg_clip, txt_clip]).set_duration(duration)\n",
    "        wait_clip = wait_clip.fadein(0.5)\n",
    "        wait_clips.append(wait_clip)\n",
    "    return wait_clip"
   ]
  },
  {
   "cell_type": "code",
   "execution_count": null,
   "metadata": {},
   "outputs": [],
   "source": []
  },
  {
   "cell_type": "code",
   "execution_count": null,
   "metadata": {},
   "outputs": [],
   "source": []
  },
  {
   "cell_type": "code",
   "execution_count": null,
   "metadata": {},
   "outputs": [],
   "source": []
  },
  {
   "cell_type": "code",
   "execution_count": null,
   "metadata": {},
   "outputs": [],
   "source": []
  },
  {
   "cell_type": "code",
   "execution_count": 11,
   "metadata": {},
   "outputs": [],
   "source": [
    "def get_total_seconds(x):\n",
    "    datetime_obj = dt.strptime(x, FMT)\n",
    "    return 60*datetime_obj.minute + datetime_obj.second\n",
    "\n",
    "def extract_acts(video_path, video_data):\n",
    "    video_name = video_path.name.rstrip('.mp4')\n",
    "    clip = VideoFileClip(str(video_path)).without_audio()\n",
    "    acts_times = video_data[video_name]['acts']\n",
    "    video_clips_dict = defaultdict(dict)\n",
    "    for i, (time, num_repeat, num_times) in enumerate(acts_times):\n",
    "        new_clips = []\n",
    "        timestamps = []\n",
    "        t_start, t_end = map(get_total_seconds, time.split('-'))\n",
    "        sub_clip = clip.subclip(t_start=t_start, t_end=t_end)\n",
    "        bg_image = sub_clip.get_frame(0)\n",
    "        # pipeline for mediappipe inference\n",
    "\n",
    "\n",
    "\n",
    "        # \n",
    "        wait_clip, total_wait_time = get_wait_clip(bg_img=bg_image)\n",
    "        timestamps.append((t_end-t_start)*num_repeat)\n",
    "        for count in range(1, num_repeat+1):\n",
    "            inter_clip = get_intermediate_count_clip(sub_clip, count=count)\n",
    "            new_clips.append(inter_clip)\n",
    "        # wait clips\n",
    "        timestamps.append(total_wait_time)\n",
    "        new_clips.append(wait_clip)\n",
    "        concat_clip = concatenate_videoclips(new_clips, method='compose')\n",
    "        new_video_name = f'{video_name}_sub{i}.mp4'\n",
    "        concat_clip.write_videofile(new_video_name, fps=clip.fps)\n",
    "        video_clips_dict[new_video_name]['timestamps'] = timestamps\n",
    "    return video_clips_dict"
   ]
  },
  {
   "cell_type": "code",
   "execution_count": 10,
   "metadata": {},
   "outputs": [
    {
     "name": "stdout",
     "output_type": "stream",
     "text": [
      "Moviepy - Building video 01_shoulder_sub0.mp4.\n",
      "Moviepy - Writing video 01_shoulder_sub0.mp4\n",
      "\n"
     ]
    },
    {
     "name": "stderr",
     "output_type": "stream",
     "text": [
      "                                                                "
     ]
    },
    {
     "name": "stdout",
     "output_type": "stream",
     "text": [
      "Moviepy - Done !\n",
      "Moviepy - video ready 01_shoulder_sub0.mp4\n"
     ]
    },
    {
     "name": "stderr",
     "output_type": "stream",
     "text": [
      "\r"
     ]
    }
   ],
   "source": [
    "video_path = sorted(data_path.glob('*.mp4'))[1]\n",
    "video_clips_dict = extract_acts(video_path, video_data)"
   ]
  },
  {
   "cell_type": "code",
   "execution_count": 39,
   "metadata": {},
   "outputs": [],
   "source": [
    "clip = VideoFileClip(str(video_path))\n"
   ]
  },
  {
   "cell_type": "code",
   "execution_count": 40,
   "metadata": {},
   "outputs": [
    {
     "name": "stdout",
     "output_type": "stream",
     "text": [
      "Moviepy - Building video test.mp4.\n",
      "Moviepy - Writing video test.mp4\n",
      "\n"
     ]
    },
    {
     "name": "stderr",
     "output_type": "stream",
     "text": [
      "                                                                "
     ]
    },
    {
     "name": "stdout",
     "output_type": "stream",
     "text": [
      "Moviepy - Done !\n",
      "Moviepy - video ready test.mp4\n"
     ]
    },
    {
     "name": "stderr",
     "output_type": "stream",
     "text": [
      "\r"
     ]
    }
   ],
   "source": [
    "x = clip.get_frame(0)\n",
    "f = get_wait_clip(bg_img=x)\n",
    "f.write_videofile(\"test.mp4\", fps=clip.fps)"
   ]
  },
  {
   "cell_type": "code",
   "execution_count": 42,
   "metadata": {},
   "outputs": [],
   "source": [
    "video_name = '00_hipjoint'"
   ]
  },
  {
   "cell_type": "code",
   "execution_count": 56,
   "metadata": {},
   "outputs": [],
   "source": [
    "txt_clip = TextClip(f'{1}', fontsize=70, color='red', bg_color='transparent').set_pos('top', 'left').set_duration(sub_clip.duration)\n",
    "inter_clip = CompositeVideoClip([sub_clip, txt_clip])\n",
    "inter_clip.write_videofile(\"test.mp4\", fps=clip.fps)"
   ]
  },
  {
   "cell_type": "code",
   "execution_count": 76,
   "metadata": {},
   "outputs": [],
   "source": [
    "video_name = video_path.name.rstrip('.mp4')\n",
    "clip = VideoFileClip(str(video_path))\n",
    "acts_times = video_data[video_name]['acts']"
   ]
  },
  {
   "cell_type": "code",
   "execution_count": 77,
   "metadata": {},
   "outputs": [
    {
     "data": {
      "text/plain": [
       "[['00:19-00:24', 5, 3], ['00:38-00:44', 5, 3]]"
      ]
     },
     "execution_count": 77,
     "metadata": {},
     "output_type": "execute_result"
    }
   ],
   "source": [
    "acts_times"
   ]
  },
  {
   "cell_type": "code",
   "execution_count": 85,
   "metadata": {},
   "outputs": [],
   "source": [
    "video_name = video_path.name.rstrip('.mp4')\n",
    "clip = VideoFileClip(str(video_path))\n",
    "acts_times = video_data[video_name]['acts']\n",
    "for i, (time, num_repeat, num_times) in enumerate(acts_times):\n",
    "    new_clips = []\n",
    "    timestamps = []\n",
    "    t_start, t_end = map(get_total_seconds, time.split('-'))\n",
    "    sub_clip = clip.subclip(t_start=t_start, t_end=t_end)\n",
    "    bg_image = sub_clip.get_frame(0)\n",
    "    wait_clip, total_wait_time = get_wait_clip(bg_img=bg_image)\n",
    "    # for k in range(num_times):\n",
    "    #     timestamps.append((t_end-t_start)*num_repeat)\n",
    "    #     for count in range(1, num_repeat+1):\n",
    "    #         inter_clip = get_intermediate_count_clip(sub_clip, count=count)\n",
    "    #         new_clips.append(inter_clip)\n",
    "    #     timestamps.append(total_wait_time)\n",
    "    #     new_clips.append(wait_clip)\n",
    "    # concat_clip = concatenate_videoclips(new_clips, method='compose')\n",
    "    # concat_clip.write_videofile(f'{video_name}_sub{i}.mp4', fps=clip.fps)\n",
    "    break"
   ]
  },
  {
   "cell_type": "code",
   "execution_count": 86,
   "metadata": {},
   "outputs": [],
   "source": [
    "inter_clip = get_intermediate_count_clip(sub_clip, count=1)"
   ]
  },
  {
   "cell_type": "code",
   "execution_count": null,
   "metadata": {},
   "outputs": [],
   "source": [
    "inter_clip.write_videofile('test.mp4', fps=clip.fps)"
   ]
  },
  {
   "cell_type": "code",
   "execution_count": null,
   "metadata": {},
   "outputs": [],
   "source": [
    "txt_clip = TextClip(f'{count}', fontsize=70, color='red', bg_color='transparent')\\\n",
    "    .set_pos((0.1, 0.9), relative=True).set_duration(sub_clip.duration)\n",
    "inter_clip = CompositeVideoClip([sub_clip, txt_clip])"
   ]
  },
  {
   "cell_type": "code",
   "execution_count": 83,
   "metadata": {},
   "outputs": [
    {
     "data": {
      "text/plain": [
       "[<moviepy.video.compositing.CompositeVideoClip.CompositeVideoClip at 0x7f7ef7985c30>,\n",
       " <moviepy.video.compositing.CompositeVideoClip.CompositeVideoClip at 0x7f7ef7b0d5d0>,\n",
       " <moviepy.video.compositing.CompositeVideoClip.CompositeVideoClip at 0x7f7ef79982e0>,\n",
       " <moviepy.video.compositing.CompositeVideoClip.CompositeVideoClip at 0x7f7ef7998790>,\n",
       " <moviepy.video.compositing.CompositeVideoClip.CompositeVideoClip at 0x7f7ef7998c40>,\n",
       " <moviepy.video.VideoClip.VideoClip at 0x7f7ef7985d50>,\n",
       " <moviepy.video.compositing.CompositeVideoClip.CompositeVideoClip at 0x7f7ef7985cc0>,\n",
       " <moviepy.video.compositing.CompositeVideoClip.CompositeVideoClip at 0x7f7ef79995a0>,\n",
       " <moviepy.video.compositing.CompositeVideoClip.CompositeVideoClip at 0x7f7ef7999a50>,\n",
       " <moviepy.video.compositing.CompositeVideoClip.CompositeVideoClip at 0x7f7ef7999f00>,\n",
       " <moviepy.video.compositing.CompositeVideoClip.CompositeVideoClip at 0x7f7ef799a3b0>,\n",
       " <moviepy.video.VideoClip.VideoClip at 0x7f7ef7985d50>,\n",
       " <moviepy.video.compositing.CompositeVideoClip.CompositeVideoClip at 0x7f7ef799a8c0>,\n",
       " <moviepy.video.compositing.CompositeVideoClip.CompositeVideoClip at 0x7f7ef799aec0>,\n",
       " <moviepy.video.compositing.CompositeVideoClip.CompositeVideoClip at 0x7f7ef799b4c0>,\n",
       " <moviepy.video.compositing.CompositeVideoClip.CompositeVideoClip at 0x7f7ef799bac0>,\n",
       " <moviepy.video.compositing.CompositeVideoClip.CompositeVideoClip at 0x7f7ef799bee0>,\n",
       " <moviepy.video.VideoClip.VideoClip at 0x7f7ef7985d50>]"
      ]
     },
     "execution_count": 83,
     "metadata": {},
     "output_type": "execute_result"
    }
   ],
   "source": [
    "new_clips"
   ]
  },
  {
   "cell_type": "code",
   "execution_count": 51,
   "metadata": {},
   "outputs": [
    {
     "name": "stdout",
     "output_type": "stream",
     "text": [
      "Moviepy - Building video test.mp4.\n",
      "MoviePy - Writing audio in testTEMP_MPY_wvf_snd.mp3\n"
     ]
    },
    {
     "name": "stderr",
     "output_type": "stream",
     "text": [
      "                                                                      \r"
     ]
    },
    {
     "name": "stdout",
     "output_type": "stream",
     "text": [
      "MoviePy - Done.\n",
      "Moviepy - Writing video test.mp4\n",
      "\n"
     ]
    },
    {
     "name": "stderr",
     "output_type": "stream",
     "text": [
      "                                                                 "
     ]
    },
    {
     "name": "stdout",
     "output_type": "stream",
     "text": [
      "Moviepy - Done !\n",
      "Moviepy - video ready test.mp4\n"
     ]
    },
    {
     "name": "stderr",
     "output_type": "stream",
     "text": [
      "\r"
     ]
    }
   ],
   "source": [
    "concat_clip = concatenate_videoclips(new_clips, method='compose')\n",
    "concat_clip.write_videofile(\"test.mp4\", fps=clip.fps)"
   ]
  },
  {
   "cell_type": "code",
   "execution_count": 13,
   "metadata": {},
   "outputs": [
    {
     "name": "stdout",
     "output_type": "stream",
     "text": [
      "Moviepy - Building video test.mp4.\n",
      "Moviepy - Writing video test.mp4\n",
      "\n"
     ]
    },
    {
     "name": "stderr",
     "output_type": "stream",
     "text": [
      "                                                               \r"
     ]
    },
    {
     "name": "stdout",
     "output_type": "stream",
     "text": [
      "Moviepy - Done !\n",
      "Moviepy - video ready test.mp4\n"
     ]
    }
   ],
   "source": [
    "f.write_videofile('test.mp4', fps=clip.fps)"
   ]
  },
  {
   "cell_type": "code",
   "execution_count": 28,
   "metadata": {},
   "outputs": [],
   "source": [
    "import matplotlib.pyplot as plt"
   ]
  },
  {
   "cell_type": "code",
   "execution_count": 29,
   "metadata": {},
   "outputs": [
    {
     "data": {
      "text/plain": [
       "<matplotlib.image.AxesImage at 0x7f70ffa103a0>"
      ]
     },
     "execution_count": 29,
     "metadata": {},
     "output_type": "execute_result"
    },
    {
     "data": {
      "image/png": "[encoded data removed]",
      "text/plain": [
       "<Figure size 640x480 with 1 Axes>"
      ]
     },
     "metadata": {},
     "output_type": "display_data"
    }
   ],
   "source": [
    "plt.imshow(x)"
   ]
  },
  {
   "cell_type": "code",
   "execution_count": null,
   "metadata": {},
   "outputs": [],
   "source": []
  }
 ],
 "metadata": {
  "kernelspec": {
   "display_name": "Python 3.10.4 ('ambient_ai2022-3bKFQP83')",
   "language": "python",
   "name": "python3"
  },
  "language_info": {
   "codemirror_mode": {
    "name": "ipython",
    "version": 3
   },
   "file_extension": ".py",
   "mimetype": "text/x-python",
   "name": "python",
   "nbconvert_exporter": "python",
   "pygments_lexer": "ipython3",
   "version": "3.10.4"
  },
  "orig_nbformat": 4,
  "vscode": {
   "interpreter": {
    "hash": "f9768605fa1a90c1522c502863a1eb739a40e671d4084228b2ccc463c14fa2b1"
   }
  }
 },
 "nbformat": 4,
 "nbformat_minor": 2
}
