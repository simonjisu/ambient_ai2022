{
 "cells": [
  {
   "cell_type": "code",
   "execution_count": 32,
   "metadata": {},
   "outputs": [],
   "source": [
    "from pathlib import Path\n",
    "import numpy as np\n",
    "import matplotlib.pyplot as plt\n",
    "import json\n",
    "import os\n",
    "\n",
    "data_path = Path('.').resolve() / 'videos'"
   ]
  },
  {
   "cell_type": "code",
   "execution_count": 31,
   "metadata": {},
   "outputs": [],
   "source": [
    "def rename_files(data_path):\n",
    "    x = dict()\n",
    "    for i, (p, name, kor_name) in enumerate(zip(\n",
    "            data_path.glob('*.mp4'), \n",
    "            ['hipjoint', 'shoulder', 'waist', 'trapezius'], \n",
    "            ['고관절', '어깨', '허리디스크', '승모근']\n",
    "        )):\n",
    "        pname = p.name.rstrip('.mp4')\n",
    "        new_name = f'{i:02d}_{name}'\n",
    "        x[new_name] = {'video_name': pname, 'kor_name': kor_name}\n",
    "        p.rename(data_path / f'{new_name}.mp4')\n",
    "    with (data_path / 'video_names.json').open('w') as file:\n",
    "        json.dump(x, file)"
   ]
  },
  {
   "attachments": {},
   "cell_type": "markdown",
   "metadata": {},
   "source": [
    "* 영상을 살펴보니 00_hipjoint는 두 개의 동작이 있음\n",
    "* 각 영상에는 설명부분과 운동하는 부분이 있음\n",
    "* 한 부위에 대해서 두 가지 방법을 알려주기도 함"
   ]
  },
  {
   "cell_type": "code",
   "execution_count": null,
   "metadata": {},
   "outputs": [
    {
     "ename": "",
     "evalue": "",
     "output_type": "error",
     "traceback": [
      "\u001b[1;31m'ambient_ai2022-SEYtttOV'(으)로 셀을 실행하려면 ipykernel 패키지가 필요합니다.\n",
      "\u001b[1;31m다음 명령어를 실행하여 Python 환경에 'ipykernel'을(를) 설치합니다. \n",
      "\u001b[1;31m 명령: 'c:/Users/simon/.virtualenvs/ambient_ai2022-SEYtttOV/Scripts/python.exe -m pip install ipykernel -U --force-reinstall'"
     ]
    }
   ],
   "source": [
    "import cv2"
   ]
  }
 ],
 "metadata": {
  "kernelspec": {
   "display_name": "Python 3.10.4 ('ambient_ai2022-SEYtttOV')",
   "language": "python",
   "name": "python3"
  },
  "language_info": {
   "codemirror_mode": {
    "name": "ipython",
    "version": 3
   },
   "file_extension": ".py",
   "mimetype": "text/x-python",
   "name": "python",
   "nbconvert_exporter": "python",
   "pygments_lexer": "ipython3",
   "version": "3.10.4 (tags/v3.10.4:9d38120, Mar 23 2022, 23:13:41) [MSC v.1929 64 bit (AMD64)]"
  },
  "orig_nbformat": 4,
  "vscode": {
   "interpreter": {
    "hash": "b0e54cbbf3f76ad0c117a98232f016153fbf525bed90828b9849d372ab6291cf"
   }
  }
 },
 "nbformat": 4,
 "nbformat_minor": 2
}
