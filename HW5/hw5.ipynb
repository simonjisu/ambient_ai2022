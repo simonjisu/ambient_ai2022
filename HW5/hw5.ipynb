{
 "cells": [
  {
   "cell_type": "code",
   "execution_count": null,
   "metadata": {},
   "outputs": [],
   "source": [
    "import json\n",
    "from pathlib import Path\n",
    "from itertools import product\n",
    "\n",
    "records_path = Path('outputs')\n",
    "tile_sizes = ['200x200', '400x400', '200x200,400x400']\n",
    "overlaps = [0, 15, 30]\n",
    "# exps = list(product(tile_sizes, overlaps))"
   ]
  },
  {
   "cell_type": "code",
   "execution_count": null,
   "metadata": {},
   "outputs": [],
   "source": [
    "for exp in records_path.glob('*.json'):\n",
    "    print(exp.name)\n",
    "    tile_sizes, overlap = exp.name.rstrip('.json').split('_')[1:]\n",
    "    with exp.open('r') as file:\n",
    "        data = json.load(file)\n",
    "    total_time = data['program'][1] - data['program'][0]\n",
    "    print(f'Total Time: {total_time:.4f}')\n",
    "    print('Frames:')\n",
    "    for f_i, frame in enumerate(data['frames']):\n",
    "        print(f'  Frame = {f_i}')\n",
    "        for t_i, (tile_size, tiles) in enumerate(zip(tile_sizes.split(','), frame['tiles'])):\n",
    "            n_tiles = len(tiles['sub'])\n",
    "            print(f'  Tile size = {tile_size}({n_tiles})')\n",
    "            for k, t in enumerate(tiles['sub']):\n",
    "                t_preprocessing = t['end_preprocessing'] - t['start']\n",
    "                t_inference = t['end_inference'] - t['end_preprocessing']\n",
    "                t_obj = t['end_get_object'] - t['end_preprocessing']\n",
    "                print(f'    [{k:03d}] preprocessing={t_preprocessing:.4f} inference={t_inference:.4f} get_objs={t_obj:.4f}')\n",
    "                if k == n_tiles-1:\n",
    "                    tiles_time = t['end_get_object'] - tiles['start']\n",
    "            print(f'  [Tiles Time] {tiles_time:.4f}')\n",
    "        postprocessing_time = frame['postprocessing'][1] - frame['postprocessing'][0]\n",
    "        print(f'  [Post processing] {postprocessing_time:.4f}')\n",
    "\n",
    "        print('  Objects:')\n",
    "        print(f\"  {list(frame['objects'].keys())}\")\n",
    "    print('--'*20)\n",
    "    break"
   ]
  }
 ],
 "metadata": {
  "kernelspec": {
   "display_name": "Python 3.10.4 ('ambient_ai2022-SEYtttOV')",
   "language": "python",
   "name": "python3"
  },
  "language_info": {
   "codemirror_mode": {
    "name": "ipython",
    "version": 3
   },
   "file_extension": ".py",
   "mimetype": "text/x-python",
   "name": "python",
   "nbconvert_exporter": "python",
   "pygments_lexer": "ipython3",
   "version": "3.10.4"
  },
  "orig_nbformat": 4,
  "vscode": {
   "interpreter": {
    "hash": "b0e54cbbf3f76ad0c117a98232f016153fbf525bed90828b9849d372ab6291cf"
   }
  }
 },
 "nbformat": 4,
 "nbformat_minor": 2
}
